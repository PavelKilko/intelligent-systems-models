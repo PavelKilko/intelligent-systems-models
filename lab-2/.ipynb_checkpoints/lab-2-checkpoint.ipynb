{
 "cells": [
  {
   "cell_type": "markdown",
   "id": "389ed808",
   "metadata": {},
   "source": [
    "# Лабораторна робота №2\n",
    "\n",
    "## Варіант №4\n",
    "\n",
    "### Загальна постановка задач\n",
    "\n",
    "> 1. Виконати набір вправ. Всі завдання виконати 2 способами:\n",
    ">    \n",
    ">    1. з використанням універсальних функцій бібліотеки NumPy;\n",
    ">    \n",
    ">    2. за допомогою ітеративних конструкцій (з використанням циклів, спискових включень, тощо);\n",
    ">    \n",
    ">    3. для обох випадків підрахувати час виконання скрипту та зробити висновки.\n",
    "> \n",
    "> 2. Розвʼязати систему алгебраїчних рівнянь за допомогою формул Крамера і виконати перевірку за допомогою:\n",
    ">    \n",
    ">    1. матричного множення;\n",
    ">    \n",
    ">    2. оберненої матриці;\n",
    ">    \n",
    ">    3. функції `numpy.linalg.solve()`;\n",
    ">    \n",
    ">    Порівняти всі рішення за допомогою функції `numpy.allclose()`.\n",
    "> \n",
    "> 3. Обчислити значення матричного виразу. Виконати 2 способами:\n",
    ">    \n",
    ">    1. з використанням універсальних функцій бібліотеки NumPy;\n",
    ">    \n",
    ">    2. за допомогою ітеративних конструкцій (з використанням циклів, спискових включень, тощо);\n",
    ">    \n",
    ">    3. для обох випадків підрахувати час виконання скрипту та зробити висновки.\n",
    ">    \n",
    ">    Порівняти всі рішення за допомогою функції `numpy.allclose()`."
   ]
  },
  {
   "cell_type": "markdown",
   "id": "b06eeb50",
   "metadata": {},
   "source": [
    "*Імпортуємо модулі Numpy, random*"
   ]
  },
  {
   "cell_type": "code",
   "execution_count": null,
   "id": "b315d79d",
   "metadata": {},
   "outputs": [],
   "source": [
    "import numpy as np\n",
    "import random"
   ]
  },
  {
   "cell_type": "markdown",
   "id": "661f1a21",
   "metadata": {},
   "source": [
    "### Завдання №1\n",
    "\n",
    "#### Вправа №2\n",
    "\n",
    "> Вводиться число $n$. Розтавити 1 та 0 у шаховому порядку, починаючи з 1 в матриці розміром $n \\times n$, використовуючи слайсінг.\n",
    "> \n",
    "> ```python\n",
    "> In [2] task_2()\n",
    ">        5\n",
    "> Out[2] [[0 1 0 1 0]\n",
    ">         [1 0 1 0 1]\n",
    ">         [0 1 0 1 0]\n",
    ">         [1 0 1 0 1]\n",
    ">         [0 1 0 1 0]]\n",
    "> ```"
   ]
  },
  {
   "cell_type": "markdown",
   "id": "ff0db2f4",
   "metadata": {},
   "source": [
    "##### Розв'язок з використанням універсальних функцій бібліотеки NumPy:"
   ]
  },
  {
   "cell_type": "code",
   "execution_count": null,
   "id": "f4256202",
   "metadata": {},
   "outputs": [],
   "source": [
    "def numpy_chess_matrix(n):\n",
    "    matrix = np.ones((n, n), dtype=int)\n",
    "\n",
    "    matrix[::2, ::2] = 0\n",
    "    matrix[1::2, 1::2] = 0\n",
    "\n",
    "    return matrix"
   ]
  },
  {
   "cell_type": "code",
   "execution_count": null,
   "id": "f99982aa",
   "metadata": {},
   "outputs": [],
   "source": [
    "def numpy_print_matrix(matrix):\n",
    "    print(matrix)"
   ]
  },
  {
   "cell_type": "code",
   "execution_count": null,
   "id": "09081a25",
   "metadata": {},
   "outputs": [],
   "source": [
    "def numpy_task_2():\n",
    "    n = int(input(\"\"))\n",
    "\n",
    "    chess_matrix = numpy_chess_matrix(n)\n",
    "\n",
    "#     numpy_print_matrix(chess_matrix)"
   ]
  },
  {
   "cell_type": "code",
   "execution_count": null,
   "id": "a966db84",
   "metadata": {},
   "outputs": [],
   "source": [
    "%time numpy_task_2()"
   ]
  },
  {
   "cell_type": "markdown",
   "id": "3dc0ca68",
   "metadata": {},
   "source": [
    "##### Розв'язок за допомогою ітеративних конструкцій (з використанням циклів, спискових включень, тощо):"
   ]
  },
  {
   "cell_type": "code",
   "execution_count": null,
   "id": "1df73641",
   "metadata": {},
   "outputs": [],
   "source": [
    "def vanilla_chess_matrix(n):\n",
    "    matrix = []\n",
    "\n",
    "    for i in range(n):\n",
    "        row = []\n",
    "\n",
    "        for j in range(n):\n",
    "            if (i + j) % 2 == 0:\n",
    "                row.append(0)\n",
    "            else:\n",
    "                row.append(1)\n",
    "\n",
    "        matrix.append(row)\n",
    "\n",
    "    return matrix"
   ]
  },
  {
   "cell_type": "code",
   "execution_count": null,
   "id": "0735477c",
   "metadata": {},
   "outputs": [],
   "source": [
    "def vanilla_print_matrix(matrix):\n",
    "    for i, row in enumerate(matrix):\n",
    "        if i == 0:\n",
    "            print(\"[\", end=\"\")\n",
    "        else:\n",
    "            print(\"\\n \", end=\"\")\n",
    "\n",
    "        print(\"[\" + \" \".join(map(str, row)) + \"]\", end=\"\")\n",
    "\n",
    "        if i == len(matrix) - 1:\n",
    "            print(\"]\")"
   ]
  },
  {
   "cell_type": "code",
   "execution_count": null,
   "id": "ac833378",
   "metadata": {},
   "outputs": [],
   "source": [
    "def vanilla_task_2():\n",
    "    n = int(input())\n",
    "\n",
    "    chess_matrix = vanilla_chess_matrix(n)\n",
    "\n",
    "#     vanilla_print_matrix(chess_matrix)"
   ]
  },
  {
   "cell_type": "code",
   "execution_count": null,
   "id": "9604a7c9",
   "metadata": {},
   "outputs": [],
   "source": [
    "%time vanilla_task_2()"
   ]
  },
  {
   "cell_type": "markdown",
   "id": "aa282cfc",
   "metadata": {},
   "source": [
    "*Розв'язок з використанням універсальних функцій бібліотеки NumPy швидший за розв'язок за допомогою ітеративних конструкцій*"
   ]
  },
  {
   "cell_type": "markdown",
   "id": "f8a67a84",
   "metadata": {},
   "source": [
    "#### Вправа №4\n",
    "\n",
    "> Вводяться числа $n$ i $m$. Вивести масив розміру $n \\times m$, в якому у першому ряду (рядок з нулевим індексом) йдуть числа від 0 до $m$-1, а всі інші елементи матриці дорівнюють 0.\n",
    "> \n",
    "> ```python\n",
    "> In [2] task_4()\n",
    ">        3 4\n",
    "> Out[2] [[0 1 2 3]\n",
    ">         [0 0 0 0]\n",
    ">         [0 0 0 0]]\n",
    "> ```"
   ]
  },
  {
   "cell_type": "markdown",
   "id": "687efc05",
   "metadata": {},
   "source": [
    "##### Розв'язок з використанням універсальних функцій бібліотеки NumPy:"
   ]
  },
  {
   "cell_type": "code",
   "execution_count": null,
   "id": "ccb31f5b",
   "metadata": {},
   "outputs": [],
   "source": [
    "def numpy_row_matrix(n, m):\n",
    "    matrix = np.zeros((n, m), dtype=int)\n",
    "\n",
    "    matrix[0] = np.arange(m)\n",
    "\n",
    "    return matrix"
   ]
  },
  {
   "cell_type": "code",
   "execution_count": null,
   "id": "2a2449ab",
   "metadata": {},
   "outputs": [],
   "source": [
    "def numpy_task_4():\n",
    "    n, m = map(int, input().split())\n",
    "\n",
    "    row_matrix = numpy_row_matrix(n, m)\n",
    "\n",
    "#     numpy_print_matrix(row_matrix)"
   ]
  },
  {
   "cell_type": "code",
   "execution_count": null,
   "id": "51dc01fc",
   "metadata": {},
   "outputs": [],
   "source": [
    "%time numpy_task_4()"
   ]
  },
  {
   "cell_type": "markdown",
   "id": "5c21aba9",
   "metadata": {},
   "source": [
    "##### Розв'язок за допомогою ітеративних конструкцій (з використанням циклів, спискових включень, тощо):"
   ]
  },
  {
   "cell_type": "code",
   "execution_count": null,
   "id": "11b0cf69",
   "metadata": {},
   "outputs": [],
   "source": [
    "def vanilla_row_matrix(n, m):\n",
    "    matrix = []\n",
    "\n",
    "    for i in range(n):\n",
    "        if i == 0:\n",
    "            row = [j for j in range(m)]\n",
    "        else:\n",
    "            row = [0] * m\n",
    "\n",
    "        matrix.append(row)\n",
    "\n",
    "    return matrix"
   ]
  },
  {
   "cell_type": "code",
   "execution_count": null,
   "id": "b0f4b634",
   "metadata": {},
   "outputs": [],
   "source": [
    "def vanilla_task_4():\n",
    "    n, m = map(int, input().split())\n",
    "\n",
    "    row_matrix = vanilla_row_matrix(n, m)\n",
    "\n",
    "#     vanilla_print_matrix(row_matrix)"
   ]
  },
  {
   "cell_type": "code",
   "execution_count": null,
   "id": "c396de39",
   "metadata": {},
   "outputs": [],
   "source": [
    "%time vanilla_task_4()"
   ]
  },
  {
   "cell_type": "markdown",
   "id": "eeddadf0",
   "metadata": {},
   "source": [
    "*Розв'язок з використанням універсальних функцій бібліотеки NumPy швидший за розв'язок за допомогою ітеративних конструкцій*"
   ]
  },
  {
   "cell_type": "markdown",
   "id": "60de9212",
   "metadata": {},
   "source": [
    "#### Вправа №5\n",
    "\n",
    "> Вводиться число $n$. Вивести масив розміру $n \\times n$, в якому в рядках з парними індексами стоять 1, а в інших - 0.\n",
    "> \n",
    "> ```python\n",
    "> In [2] task_5()\n",
    ">        5\n",
    "> Out[2] [[1 1 1 1 1]\n",
    ">         [0 0 0 0 0]\n",
    ">         [1 1 1 1 1]\n",
    ">         [0 0 0 0 0]\n",
    ">         [1 1 1 1 1]]\n",
    "> ```"
   ]
  },
  {
   "cell_type": "markdown",
   "id": "903169d7",
   "metadata": {},
   "source": [
    "##### Розв'язок з використанням універсальних функцій бібліотеки NumPy:"
   ]
  },
  {
   "cell_type": "code",
   "execution_count": null,
   "id": "89765b15",
   "metadata": {},
   "outputs": [],
   "source": [
    "def numpy_zebra_matrix(n):\n",
    "    matrix = np.zeros((n, n), dtype=int)\n",
    "\n",
    "    matrix[::2, :] = 1\n",
    "\n",
    "    return matrix"
   ]
  },
  {
   "cell_type": "code",
   "execution_count": null,
   "id": "487094a0",
   "metadata": {},
   "outputs": [],
   "source": [
    "def numpy_task_5():\n",
    "    n = int(input())\n",
    "\n",
    "    zebra_matrix = numpy_zebra_matrix(n)\n",
    "\n",
    "    numpy_print_matrix(zebra_matrix)"
   ]
  },
  {
   "cell_type": "code",
   "execution_count": null,
   "id": "41d0e7f9",
   "metadata": {},
   "outputs": [],
   "source": [
    "%time numpy_task_5()"
   ]
  },
  {
   "cell_type": "markdown",
   "id": "6c618f6e",
   "metadata": {},
   "source": [
    "##### Розв'язок за допомогою ітеративних конструкцій (з використанням циклів, спискових включень, тощо):"
   ]
  },
  {
   "cell_type": "code",
   "execution_count": null,
   "id": "b3da1700",
   "metadata": {},
   "outputs": [],
   "source": [
    "def vanilla_zebra_matrix(n):\n",
    "    matrix = []\n",
    "\n",
    "    for i in range(n):\n",
    "        if i % 2 == 0:\n",
    "            row = [1] * n\n",
    "        else:\n",
    "            row = [0] * n\n",
    "\n",
    "        matrix.append(row)\n",
    "\n",
    "    return matrix"
   ]
  },
  {
   "cell_type": "code",
   "execution_count": null,
   "id": "61cf2c9a",
   "metadata": {},
   "outputs": [],
   "source": [
    "def vanilla_task_5():\n",
    "    n = int(input())\n",
    "\n",
    "    zebra_matrix = vanilla_zebra_matrix(n)\n",
    "\n",
    "    vanilla_print_matrix(zebra_matrix)"
   ]
  },
  {
   "cell_type": "code",
   "execution_count": null,
   "id": "cc310efe",
   "metadata": {},
   "outputs": [],
   "source": [
    "%time vanilla_task_5()"
   ]
  },
  {
   "cell_type": "markdown",
   "id": "6a2cc777",
   "metadata": {},
   "source": [
    "# *Розв'язок з використанням універсальних функцій бібліотеки NumPy швидший за розв'язок за допомогою ітеративних конструкцій*"
   ]
  },
  {
   "cell_type": "markdown",
   "id": "39206262",
   "metadata": {},
   "source": [
    "#### Вправа №8\n",
    "\n",
    "> З клавіатури вводиться масив. Підрахувати в ньому кількість нульових та ненульових елементів.\n",
    "> \n",
    "> ```python\n",
    "> In  [2] task_8()\n",
    ">         3 4 0 9 8 2 4 0 8 4 0\n",
    "> Out [2] Нулів: 3\n",
    ">         Не нулів: 8\n",
    "> ```"
   ]
  },
  {
   "cell_type": "markdown",
   "id": "798d23d0",
   "metadata": {},
   "source": [
    "##### Розв'язок з використанням універсальних функцій бібліотеки NumPy:"
   ]
  },
  {
   "cell_type": "code",
   "execution_count": null,
   "id": "9ab07f41",
   "metadata": {},
   "outputs": [],
   "source": [
    "def numpy_count_zeros_and_non_zeros(array):\n",
    "    array = np.array(array)\n",
    "\n",
    "    zero_count = np.sum(array == 0)\n",
    "    non_zero_count = np.sum(array != 0)\n",
    "\n",
    "    return zero_count, non_zero_count"
   ]
  },
  {
   "cell_type": "code",
   "execution_count": null,
   "id": "3c59f5b3",
   "metadata": {},
   "outputs": [],
   "source": [
    "def numpy_task_8():\n",
    "    array = list((map(int, input().split())))\n",
    "\n",
    "    zero_count, non_zero_count = numpy_count_zeros_and_non_zeros(array)\n",
    "\n",
    "    print(\"Нулів:\", zero_count)\n",
    "    print(\"Не нулів:\", non_zero_count)"
   ]
  },
  {
   "cell_type": "code",
   "execution_count": null,
   "id": "fea1aad0",
   "metadata": {},
   "outputs": [],
   "source": [
    "%time numpy_task_8()"
   ]
  },
  {
   "cell_type": "code",
   "execution_count": null,
   "id": "98c6be41",
   "metadata": {},
   "outputs": [],
   "source": [
    "def numpy_task_8_rand():\n",
    "    n = int(input())\n",
    "\n",
    "    array = [random.randint(0, 100) for _ in range(n)]\n",
    "\n",
    "    zero_count, non_zero_count = numpy_count_zeros_and_non_zeros(array)\n",
    "\n",
    "    print(\"Нулів:\", zero_count)\n",
    "    print(\"Не нулів:\", non_zero_count)"
   ]
  },
  {
   "cell_type": "code",
   "execution_count": null,
   "id": "8f04312a",
   "metadata": {},
   "outputs": [],
   "source": [
    "%time numpy_task_8_rand()"
   ]
  },
  {
   "cell_type": "markdown",
   "id": "ac4032ae",
   "metadata": {},
   "source": [
    "##### Розв'язок за допомогою ітеративних конструкцій (з використанням циклів, спискових включень, тощо):"
   ]
  },
  {
   "cell_type": "code",
   "execution_count": null,
   "id": "e5bcaee4",
   "metadata": {},
   "outputs": [],
   "source": [
    "def vanilla_count_zeros_and_non_zeros(array):\n",
    "    zero_count = 0\n",
    "    non_zero_count = 0\n",
    "\n",
    "    for number in array:\n",
    "        if number == 0:\n",
    "            zero_count += 1\n",
    "        else:\n",
    "            non_zero_count += 1\n",
    "\n",
    "    return zero_count, non_zero_count"
   ]
  },
  {
   "cell_type": "code",
   "execution_count": null,
   "id": "477e544c",
   "metadata": {},
   "outputs": [],
   "source": [
    "def vanilla_task_8():\n",
    "    array = list((map(int, input().split())))\n",
    "\n",
    "    zero_count, non_zero_count = vanilla_count_zeros_and_non_zeros(array)\n",
    "\n",
    "    print(\"Нулів:\", zero_count)\n",
    "    print(\"Не нулів:\", non_zero_count)"
   ]
  },
  {
   "cell_type": "code",
   "execution_count": null,
   "id": "933032d8",
   "metadata": {},
   "outputs": [],
   "source": [
    "%time vanilla_task_8()"
   ]
  },
  {
   "cell_type": "code",
   "execution_count": null,
   "id": "09aaa6f6",
   "metadata": {},
   "outputs": [],
   "source": [
    "def vanilla_task_8_rand():\n",
    "    n = int(input())\n",
    "\n",
    "    array = [random.randint(0, 100) for _ in range(n)]\n",
    "\n",
    "    zero_count, non_zero_count = vanilla_count_zeros_and_non_zeros(array)\n",
    "\n",
    "    print(\"Нулів:\", zero_count)\n",
    "    print(\"Не нулів:\", non_zero_count)"
   ]
  },
  {
   "cell_type": "code",
   "execution_count": null,
   "id": "153a217e",
   "metadata": {},
   "outputs": [],
   "source": [
    "%time vanilla_task_8_rand()"
   ]
  },
  {
   "cell_type": "markdown",
   "id": "4eb3a7d3",
   "metadata": {},
   "source": [
    "*Розв'язок за допомогою ітеративних конструкцій швидший за розв'язок з використанням універсальних функцій бібліотеки NumPy*"
   ]
  },
  {
   "cell_type": "markdown",
   "id": "da43c685",
   "metadata": {},
   "source": [
    "#### Вправа №9\n",
    "\n",
    "> Вводиться число $n$. Створити масив значень від $n$ до 0.\n",
    "> \n",
    "> ```python\n",
    "> In  [2] task_9()\n",
    ">         10\n",
    "> Out [2] [10 9 8 7 6 5 4 3 2 1 0]\n",
    "> ```"
   ]
  },
  {
   "cell_type": "markdown",
   "id": "797ca5b8",
   "metadata": {},
   "source": [
    "##### Розв'язок з використанням універсальних функцій бібліотеки NumPy:"
   ]
  },
  {
   "cell_type": "code",
   "execution_count": null,
   "id": "d468e526",
   "metadata": {},
   "outputs": [],
   "source": [
    "def numpy_reversed_range(n):\n",
    "    reversed_range = np.arange(n, -1, -1)\n",
    "\n",
    "    return reversed_range"
   ]
  },
  {
   "cell_type": "code",
   "execution_count": null,
   "id": "609f25c8",
   "metadata": {},
   "outputs": [],
   "source": [
    "def numpy_print_array(array):\n",
    "    print(array)"
   ]
  },
  {
   "cell_type": "code",
   "execution_count": null,
   "id": "ab8cb0bd",
   "metadata": {},
   "outputs": [],
   "source": [
    "def numpy_task_9():\n",
    "    n = int(input())\n",
    "\n",
    "    array = numpy_reversed_range(n)\n",
    "\n",
    "    numpy_print_array(array)"
   ]
  },
  {
   "cell_type": "code",
   "execution_count": null,
   "id": "428ef63c",
   "metadata": {},
   "outputs": [],
   "source": [
    "%time numpy_task_9()"
   ]
  },
  {
   "cell_type": "markdown",
   "id": "92f7c496",
   "metadata": {},
   "source": [
    "##### Розв'язок за допомогою ітеративних конструкцій (з використанням циклів, спискових включень, тощо):"
   ]
  },
  {
   "cell_type": "code",
   "execution_count": null,
   "id": "6d597d03",
   "metadata": {},
   "outputs": [],
   "source": [
    "def vanilla_reversed_range(n):\n",
    "    reversed_range = list(range(n, -1, -1))\n",
    "\n",
    "    return reversed_range"
   ]
  },
  {
   "cell_type": "code",
   "execution_count": null,
   "id": "9fbf5c6b",
   "metadata": {},
   "outputs": [],
   "source": [
    "def vanilla_print_array(array):\n",
    "    print(\"[\" + \" \".join(map(str, array)) + \"]\")"
   ]
  },
  {
   "cell_type": "code",
   "execution_count": null,
   "id": "871592f4",
   "metadata": {},
   "outputs": [],
   "source": [
    "def vanilla_task_9():\n",
    "    n = int(input(\"\"))\n",
    "\n",
    "    array = vanilla_reversed_range(n)\n",
    "\n",
    "    vanilla_print_array(array)"
   ]
  },
  {
   "cell_type": "code",
   "execution_count": null,
   "id": "5d53fda6",
   "metadata": {},
   "outputs": [],
   "source": [
    "%time vanilla_task_9()"
   ]
  },
  {
   "cell_type": "markdown",
   "id": "02157b6c",
   "metadata": {},
   "source": [
    "*Розв'язок з використанням універсальних функцій бібліотеки NumPy трохи швидший за розв'язок за допомогою ітеративних конструкцій*"
   ]
  },
  {
   "cell_type": "markdown",
   "id": "0d0e57d4",
   "metadata": {},
   "source": [
    "#### Вправа №12\n",
    "\n",
    "> Створити масив одиниць розміром $n \\times n$ та створити в ньому \"рамку\", що утворюється з 0.\n",
    "> \n",
    "> ```python\n",
    "> In  [2] task_12()\n",
    ">         4\n",
    "> Out [2] [[0. 0. 0. 0.]\n",
    ">          [0. 1. 1. 0.]\n",
    ">          [0. 1. 1. 0.]\n",
    ">          [0. 0. 0. 0.]]\n",
    "> ```"
   ]
  },
  {
   "cell_type": "markdown",
   "id": "efad71cc",
   "metadata": {},
   "source": [
    "##### Розв'язок з використанням універсальних функцій бібліотеки NumPy:"
   ]
  },
  {
   "cell_type": "code",
   "execution_count": null,
   "id": "6a5a26a3",
   "metadata": {},
   "outputs": [],
   "source": [
    "def numpy_frame_matrix(n):\n",
    "    matrix = np.ones((n, n), dtype=float)\n",
    "\n",
    "    matrix[0, :] = 0.\n",
    "    matrix[-1, :] = 0.\n",
    "\n",
    "    matrix[:, 0] = 0.\n",
    "    matrix[:, -1] = 0.\n",
    "\n",
    "    return matrix"
   ]
  },
  {
   "cell_type": "code",
   "execution_count": null,
   "id": "93642b20",
   "metadata": {},
   "outputs": [],
   "source": [
    "def numpy_task_12():\n",
    "    n = int(input())\n",
    "\n",
    "    matrix = numpy_frame_matrix(n)\n",
    "\n",
    "    numpy_print_matrix(matrix)"
   ]
  },
  {
   "cell_type": "code",
   "execution_count": null,
   "id": "9c47c025",
   "metadata": {},
   "outputs": [],
   "source": [
    "%time numpy_task_12()"
   ]
  },
  {
   "cell_type": "markdown",
   "id": "6b6dce3f",
   "metadata": {},
   "source": [
    "##### Розв'язок за допомогою ітеративних конструкцій (з використанням циклів, спискових включень, тощо):"
   ]
  },
  {
   "cell_type": "code",
   "execution_count": null,
   "id": "ba82e244",
   "metadata": {},
   "outputs": [],
   "source": [
    "def vanilla_frame_matrix(n):\n",
    "    matrix = []\n",
    "\n",
    "    for i in range(n):\n",
    "        row = []\n",
    "\n",
    "        for j in range(n):\n",
    "            if i == 0 or i == n - 1 or j == 0 or j == n - 1:\n",
    "                row.append(0.0)\n",
    "            else:\n",
    "                row.append(1.0)\n",
    "\n",
    "        matrix.append(row)\n",
    "\n",
    "    return matrix"
   ]
  },
  {
   "cell_type": "code",
   "execution_count": null,
   "id": "748e316d",
   "metadata": {},
   "outputs": [],
   "source": [
    "def vanilla_task_12():\n",
    "    n = int(input())\n",
    "\n",
    "    matrix = vanilla_frame_matrix(n)\n",
    "\n",
    "    vanilla_print_matrix(matrix)"
   ]
  },
  {
   "cell_type": "code",
   "execution_count": null,
   "id": "81fda723",
   "metadata": {},
   "outputs": [],
   "source": [
    "%time vanilla_task_12()"
   ]
  },
  {
   "cell_type": "markdown",
   "id": "f138c98e",
   "metadata": {},
   "source": [
    "#### *Розв'язок з використанням універсальних функцій бібліотеки NumPy швидший за розв'язок за допомогою ітеративних конструкцій*"
   ]
  },
  {
   "cell_type": "markdown",
   "id": "237ce1aa",
   "metadata": {},
   "source": [
    "#### Вправа №13\n",
    "\n",
    "> Розмістити на полі $8 \\times 8$ нулі та одиниці в шаховому порядку, використовуючи функцію повторення (*).\n",
    "> \n",
    "> ```python\n",
    "> In  [2] task_13()\n",
    "> Out [2] [[0 1 0 1 0 1 0 1]\n",
    ">          [1 0 1 0 1 0 1 0]\n",
    ">          [0 1 0 1 0 1 0 1]\n",
    ">          [1 0 1 0 1 0 1 0]\n",
    ">          [0 1 0 1 0 1 0 1]\n",
    ">          [1 0 1 0 1 0 1 0]\n",
    ">          [0 1 0 1 0 1 0 1]\n",
    ">          [1 0 1 0 1 0 1 0]]\n",
    "> ```"
   ]
  },
  {
   "cell_type": "markdown",
   "id": "a50e5b13",
   "metadata": {},
   "source": [
    "##### Розв'язок з використанням універсальних функцій бібліотеки NumPy:"
   ]
  },
  {
   "cell_type": "code",
   "execution_count": null,
   "id": "31bf2b91",
   "metadata": {},
   "outputs": [],
   "source": [
    "def numpy_8x8_chess_matrix():\n",
    "    matrix = np.zeros((8, 8), dtype=int)\n",
    "\n",
    "    matrix[::2, 1::2] = 1\n",
    "    matrix[1::2, ::2] = 1\n",
    "\n",
    "    return matrix"
   ]
  },
  {
   "cell_type": "code",
   "execution_count": null,
   "id": "5be5feac",
   "metadata": {},
   "outputs": [],
   "source": [
    "def numpy_task_13():\n",
    "    matrix = numpy_8x8_chess_matrix()\n",
    "\n",
    "    numpy_print_matrix(matrix)"
   ]
  },
  {
   "cell_type": "code",
   "execution_count": null,
   "id": "640d7fdf",
   "metadata": {},
   "outputs": [],
   "source": [
    "%time numpy_task_13()"
   ]
  },
  {
   "cell_type": "markdown",
   "id": "f9ce6de2",
   "metadata": {},
   "source": [
    "##### Розв'язок за допомогою ітеративних конструкцій (з використанням циклів, спискових включень, тощо):"
   ]
  },
  {
   "cell_type": "code",
   "execution_count": null,
   "id": "a8d4176c",
   "metadata": {},
   "outputs": [],
   "source": [
    "def vanilla_8x8_chess_matrix():\n",
    "    matrix = []\n",
    "\n",
    "    for i in range(8):\n",
    "        if i % 2 == 0:\n",
    "            row = [0, 1] * 4 \n",
    "        else:\n",
    "            row = [1, 0] * 4 \n",
    "\n",
    "        matrix.append(row)\n",
    "\n",
    "    return matrix"
   ]
  },
  {
   "cell_type": "code",
   "execution_count": null,
   "id": "91de0783",
   "metadata": {},
   "outputs": [],
   "source": [
    "def vanilla_task_13():\n",
    "    matrix = vanilla_8x8_chess_matrix()\n",
    "\n",
    "    vanilla_print_matrix(matrix)"
   ]
  },
  {
   "cell_type": "code",
   "execution_count": null,
   "id": "c362fd88",
   "metadata": {},
   "outputs": [],
   "source": [
    "%time vanilla_task_13()"
   ]
  },
  {
   "cell_type": "markdown",
   "id": "a2c90633",
   "metadata": {},
   "source": [
    "*Розв'язок за допомогою ітеративних конструкцій швидший за розв'язок з використанням універсальних функцій бібліотеки NumPy*"
   ]
  },
  {
   "cell_type": "markdown",
   "id": "40d440de",
   "metadata": {},
   "source": [
    "#### Вправа №15\n",
    "\n",
    "> Заповнити парні стовпчики матриці розміром $n \\times n$ одиницями, а непарні - нулями.\n",
    "> \n",
    "> ```python\n",
    "> In  [2] task_15()\n",
    ">         5\n",
    "> Out [2] [[0 1 0 1 0]\n",
    ">          [0 1 0 1 0]\n",
    ">          [0 1 0 1 0]\n",
    ">          [0 1 0 1 0]\n",
    ">          [0 1 0 1 0]]\n",
    "> ```"
   ]
  },
  {
   "cell_type": "markdown",
   "id": "a4e88b92",
   "metadata": {},
   "source": [
    "##### Розв'язок з використанням універсальних функцій бібліотеки NumPy:"
   ]
  },
  {
   "cell_type": "code",
   "execution_count": null,
   "id": "02cbe857",
   "metadata": {},
   "outputs": [],
   "source": [
    "def numpy_striped_matrix(n):\n",
    "    matrix = np.zeros((n, n), dtype=int)\n",
    "\n",
    "    matrix[:, 1::2] = 1\n",
    "\n",
    "    return matrix"
   ]
  },
  {
   "cell_type": "code",
   "execution_count": null,
   "id": "d5c848bc",
   "metadata": {},
   "outputs": [],
   "source": [
    "def numpy_task_15():\n",
    "    n = int(input())\n",
    "\n",
    "    matrix = numpy_striped_matrix(n)\n",
    "\n",
    "    numpy_print_matrix(matrix)"
   ]
  },
  {
   "cell_type": "code",
   "execution_count": null,
   "id": "74542b4f",
   "metadata": {},
   "outputs": [],
   "source": [
    "%time numpy_task_15()"
   ]
  },
  {
   "cell_type": "markdown",
   "id": "3f2eb9d4",
   "metadata": {},
   "source": [
    "##### Розв'язок за допомогою ітеративних конструкцій (з використанням циклів, спискових включень, тощо):"
   ]
  },
  {
   "cell_type": "code",
   "execution_count": null,
   "id": "151df5df",
   "metadata": {},
   "outputs": [],
   "source": [
    "def vanilla_striped_matrix(n):\n",
    "    matrix = []\n",
    "\n",
    "    for i in range(n):\n",
    "        row = []\n",
    "\n",
    "        for j in range(n):\n",
    "            if j % 2 == 0:\n",
    "                row.append(0)\n",
    "            else:\n",
    "                row.append(1)\n",
    "\n",
    "        matrix.append(row)\n",
    "\n",
    "    return matrix"
   ]
  },
  {
   "cell_type": "code",
   "execution_count": null,
   "id": "f0a340ba",
   "metadata": {},
   "outputs": [],
   "source": [
    "def vanilla_task_15():\n",
    "    n = int(input())\n",
    "\n",
    "    matrix = vanilla_striped_matrix(n)\n",
    "\n",
    "    vanilla_print_matrix(matrix)"
   ]
  },
  {
   "cell_type": "code",
   "execution_count": null,
   "id": "dd4c70cb",
   "metadata": {},
   "outputs": [],
   "source": [
    "%time vanilla_task_15()"
   ]
  },
  {
   "cell_type": "markdown",
   "id": "f24de484",
   "metadata": {},
   "source": [
    "*Розв'язок з використанням універсальних функцій бібліотеки NumPy швидший за розв'язок за допомогою ітеративних конструкцій*"
   ]
  },
  {
   "cell_type": "markdown",
   "id": "120d63e2",
   "metadata": {},
   "source": [
    "#### Вправа №19\n",
    "\n",
    "> Згенерувати вектор із $n$ елементів, що рівномірно розміщені на інтервалі $(0, 1)$ - тобто обидва кінці інтервалу не включені. Значення вивести до 3 знаків після коми.\n",
    "> \n",
    "> ```python\n",
    "> In  [2] task_20()\n",
    ">         10\n",
    "> Out [2] [0.091 0.182 0.273 0.364 0.455 0.545 0.636\n",
    "> 0.727 0.818 0.909]\n",
    "> ```"
   ]
  },
  {
   "cell_type": "markdown",
   "id": "e1855e59",
   "metadata": {},
   "source": [
    "##### Розв'язок з використанням універсальних функцій бібліотеки NumPy:"
   ]
  },
  {
   "cell_type": "code",
   "execution_count": null,
   "id": "d739b061",
   "metadata": {},
   "outputs": [],
   "source": [
    "def numpy_evenly_spaced_array(n):\n",
    "    array = np.linspace(0.0, 1.0, n + 1, endpoint=False)[1:]\n",
    "\n",
    "    array = np.around(array, decimals=3)\n",
    "\n",
    "    return array"
   ]
  },
  {
   "cell_type": "code",
   "execution_count": null,
   "id": "07d066b1",
   "metadata": {},
   "outputs": [],
   "source": [
    "def numpy_task_19():\n",
    "    n = int(input(\"\"))\n",
    "\n",
    "    array = numpy_evenly_spaced_array(n)\n",
    "\n",
    "    numpy_print_array(array)"
   ]
  },
  {
   "cell_type": "code",
   "execution_count": null,
   "id": "cf2103ea",
   "metadata": {},
   "outputs": [],
   "source": [
    "%time numpy_task_19()"
   ]
  },
  {
   "cell_type": "markdown",
   "id": "1e3238fa",
   "metadata": {},
   "source": [
    "##### Розв'язок за допомогою ітеративних конструкцій (з використанням циклів, спискових включень, тощо):"
   ]
  },
  {
   "cell_type": "code",
   "execution_count": null,
   "id": "0a957e49",
   "metadata": {},
   "outputs": [],
   "source": [
    "def vanilla_evenly_spaced_array(n):\n",
    "    array = [round(0.0 + i * (1.0 - 0.0) / (n + 1), 3) for i in range(1, n + 1)]\n",
    "\n",
    "    return array"
   ]
  },
  {
   "cell_type": "code",
   "execution_count": null,
   "id": "02b3cd96",
   "metadata": {},
   "outputs": [],
   "source": [
    "def vanilla_task_19():\n",
    "    n = int(input())\n",
    "\n",
    "    array = vanilla_evenly_spaced_array(n)\n",
    "\n",
    "    vanilla_print_array(array)"
   ]
  },
  {
   "cell_type": "code",
   "execution_count": null,
   "id": "9fcc1c57",
   "metadata": {},
   "outputs": [],
   "source": [
    "%time vanilla_task_19()"
   ]
  },
  {
   "cell_type": "markdown",
   "id": "024ecb46",
   "metadata": {},
   "source": [
    "*Розв'язок з використанням універсальних функцій бібліотеки NumPy та розв'язок за допомогою ітеративних конструкцій однакові за швидкістю*"
   ]
  },
  {
   "cell_type": "markdown",
   "id": "149f40a9",
   "metadata": {},
   "source": [
    "### Завдання №2\n",
    "\n",
    "> Розвʼязати систему алгебраїчних рівнянь за допомогою формул Крамера і виконати перевірку за допомогою:\n",
    "> \n",
    "> a) матричного множення;\n",
    "> \n",
    "> b) оберненої матриці;\n",
    "> \n",
    "> c) функції `numpy.linalg.solve()`\n",
    "> \n",
    "> Порівняти всі рішення за допомогою функції `numpy.allclose()`.\n",
    "> \n",
    "> $$\n",
    "\\left\\{ \n",
    "\\begin{array}{c}\n",
    "x_1 + 2x_2 + 3x_3 + 4x_4 = 5 \\\\\n",
    "2x_1 + x_2 + 2x_3 + 3x_4 = 1 \\\\\n",
    "3x_1 + 2x_2 + x_3 + 2x_4 = 1 \\\\\n",
    "4x_1 + 3x_2 + 2x_3 + x_4 = -5   \n",
    "\\end{array}\n",
    "\\right.\n",
    "$$"
   ]
  },
  {
   "cell_type": "markdown",
   "id": "763395d2",
   "metadata": {},
   "source": [
    "*Знаходимо розвʼязок системи за допомогою формул Крамера*"
   ]
  },
  {
   "cell_type": "code",
   "execution_count": null,
   "id": "c5430d50",
   "metadata": {},
   "outputs": [],
   "source": [
    "def cramer4x4(a, b):\n",
    "    mask = np.broadcast_to(np.diag([1, 1, 1, 1]), [4, 4, 4]).swapaxes(0, 1)\n",
    "    Ms = np.where(mask, np.repeat(b, 4).reshape(4, 4), a)\n",
    "    return np.linalg.det(Ms) / np.linalg.det(a)"
   ]
  },
  {
   "cell_type": "code",
   "execution_count": null,
   "id": "b031389a",
   "metadata": {},
   "outputs": [],
   "source": [
    "a = np.array([\n",
    "    [1, 2, 3, 4],\n",
    "    [2, 1, 2, 3],\n",
    "    [3, 2, 1, 2],\n",
    "    [4, 3, 2, 1]\n",
    "])"
   ]
  },
  {
   "cell_type": "code",
   "execution_count": null,
   "id": "3fa10e9a",
   "metadata": {},
   "outputs": [],
   "source": [
    "b = np.array([5, 1, 1, -5])"
   ]
  },
  {
   "cell_type": "code",
   "execution_count": null,
   "id": "4bb09a1f",
   "metadata": {},
   "outputs": [],
   "source": [
    "solution = cramer4x4(a, b)\n",
    "\n",
    "print(solution)"
   ]
  },
  {
   "cell_type": "markdown",
   "id": "cc3d6629",
   "metadata": {},
   "source": [
    "##### Перевірка за допомогою матричного множення:"
   ]
  },
  {
   "cell_type": "code",
   "execution_count": null,
   "id": "8f9bddc5",
   "metadata": {},
   "outputs": [],
   "source": [
    "print(np.allclose(a @ solution, b))"
   ]
  },
  {
   "cell_type": "markdown",
   "id": "6938bccd",
   "metadata": {},
   "source": [
    "##### Перевірка за допомогою оберненої матриці:"
   ]
  },
  {
   "cell_type": "code",
   "execution_count": null,
   "id": "c1db543b",
   "metadata": {},
   "outputs": [],
   "source": [
    "print(np.allclose(np.linalg.inv(a) @ b, solution))"
   ]
  },
  {
   "cell_type": "markdown",
   "id": "f6bc3a94",
   "metadata": {},
   "source": [
    "##### Перевірка за допомогою функції `numpy.linalg.solve()`:"
   ]
  },
  {
   "cell_type": "code",
   "execution_count": null,
   "id": "9cb01661",
   "metadata": {},
   "outputs": [],
   "source": [
    "print(np.allclose(np.linalg.solve(a, b), solution))"
   ]
  },
  {
   "cell_type": "markdown",
   "id": "b8e3a29c",
   "metadata": {},
   "source": [
    "### Завдання №3\n",
    "\n",
    "> Обчислити значення матричного виразу. Виконати 2 способами:\n",
    "> \n",
    "> а) з використанням універсальних функцій бібліотеки NumPy\n",
    "> \n",
    "> b) за допомогою ітеративних конструкцій (з використанням циклів, спискових включень, тощо).\n",
    "> \n",
    "> c) для обох випадків підрахувати час виконання скрипту та зробити висновок.\n",
    "> \n",
    "> Порівняти всі рішення за допомогою функції `numpy.allclose()`.\n",
    "> \n",
    "> $$ 2(A - B)(A^2 + B) $$\n",
    ">\n",
    "> $$ \\mathrm{де} \\; A = \\begin{pmatrix} 5 & 1 & 7 \\\\ -10 & -2 & 1 \\\\ 0 & 1 & 2 \\end{pmatrix}, \\; B = \\begin{pmatrix} 2 & 4 & 1 \\\\ 3 & 1 & 0 \\\\ 7 & 2 & 1 \\end{pmatrix} $$"
   ]
  },
  {
   "cell_type": "markdown",
   "id": "49b1068d",
   "metadata": {},
   "source": [
    "##### Розв'язок з використанням універсальних функцій бібліотеки NumPy:"
   ]
  },
  {
   "cell_type": "code",
   "execution_count": null,
   "id": "44aee542",
   "metadata": {},
   "outputs": [],
   "source": [
    "def numpy_solver():\n",
    "    a = np.array([\n",
    "        [5, 1, 7],\n",
    "        [-10, -2, 1],\n",
    "        [0, 1, 2]\n",
    "    ])\n",
    "\n",
    "    b = np.array([\n",
    "        [2, 4, 1],\n",
    "        [3, 1, 0],\n",
    "        [7, 2, 1]\n",
    "    ])\n",
    "\n",
    "    result = 2 * (a - b) @ (a @ a + b)\n",
    "    \n",
    "    return result"
   ]
  },
  {
   "cell_type": "code",
   "execution_count": null,
   "id": "90dea748",
   "metadata": {},
   "outputs": [],
   "source": [
    "%time numpy_result = numpy_solver()\n",
    "\n",
    "numpy_print_matrix(numpy_result)"
   ]
  },
  {
   "cell_type": "markdown",
   "id": "4b58570f",
   "metadata": {},
   "source": [
    "##### Розв'язок за допомогою ітеративних конструкцій (з використанням циклів, спискових включень, тощо):"
   ]
  },
  {
   "cell_type": "code",
   "execution_count": null,
   "id": "4241a453",
   "metadata": {},
   "outputs": [],
   "source": [
    "def subtract_matrices(matrix_l, matrix_r):\n",
    "    if len(matrix_l) != len(matrix_r) or len(matrix_l[0]) != len(matrix_r[0]):\n",
    "        raise ValueError(\"Матриці мають різну розмірність\")\n",
    "\n",
    "    result = []\n",
    "    for i in range(len(matrix_l)):\n",
    "        row = []\n",
    "        for j in range(len(matrix_l[0])):\n",
    "            row.append(matrix_l[i][j] - matrix_r[i][j])\n",
    "        result.append(row)\n",
    "\n",
    "    return result"
   ]
  },
  {
   "cell_type": "code",
   "execution_count": null,
   "id": "446597ec",
   "metadata": {},
   "outputs": [],
   "source": [
    "def add_matrices(matrix_l, matrix_r):\n",
    "    if len(matrix_l) != len(matrix_r) or len(matrix_l[0]) != len(matrix_r[0]):\n",
    "        raise ValueError(\"Матриці мають різну розмірність\")\n",
    "\n",
    "    result = []\n",
    "    for i in range(len(matrix_l)):\n",
    "        row = []\n",
    "        for j in range(len(matrix_l[0])):\n",
    "            row.append(matrix_l[i][j] + matrix_r[i][j])\n",
    "        result.append(row)\n",
    "\n",
    "    return result"
   ]
  },
  {
   "cell_type": "code",
   "execution_count": null,
   "id": "dc2155a5",
   "metadata": {},
   "outputs": [],
   "source": [
    "def multiply_matrices(matrix_l, matrix_r):\n",
    "    if len(matrix_l[0]) != len(matrix_r):\n",
    "        raise ValueError(\"Неправильні розміри матриць для множення\")\n",
    "\n",
    "    result = [[0 for _ in range(len(matrix_r[0]))] for _ in range(len(matrix_l))]\n",
    "\n",
    "    for i in range(len(matrix_l)):\n",
    "        for j in range(len(matrix_r[0])):\n",
    "            for k in range(len(matrix_r)):\n",
    "                result[i][j] += matrix_l[i][k] * matrix_r[k][j]\n",
    "\n",
    "    return result"
   ]
  },
  {
   "cell_type": "code",
   "execution_count": null,
   "id": "d416429f",
   "metadata": {},
   "outputs": [],
   "source": [
    "def multiply_matrix_by_scalar(matrix, scalar):\n",
    "    result = []\n",
    "\n",
    "    for row in matrix:\n",
    "        new_row = [scalar * element for element in row]\n",
    "        result.append(new_row)\n",
    "\n",
    "    return result"
   ]
  },
  {
   "cell_type": "code",
   "execution_count": null,
   "id": "0cfc2529",
   "metadata": {},
   "outputs": [],
   "source": [
    "def vanilla_solver():\n",
    "    a = [[5, 1, 7],\n",
    "         [-10, -2, 1],\n",
    "         [0, 1, 2]]\n",
    "\n",
    "    b = [[2, 4, 1],\n",
    "         [3, 1, 0],\n",
    "         [7, 2, 1]]\n",
    "\n",
    "    c1 = subtract_matrices(a, b)\n",
    "    c2 = multiply_matrices(a, a)\n",
    "    c3 = add_matrices(c2, b)\n",
    "    c4 = multiply_matrices(c1, c3)\n",
    "    result = multiply_matrix_by_scalar(c4, 2)\n",
    "    \n",
    "    return result"
   ]
  },
  {
   "cell_type": "code",
   "execution_count": null,
   "id": "b6c422cb",
   "metadata": {},
   "outputs": [],
   "source": [
    "%time vanilla_result = vanilla_solver()\n",
    "\n",
    "vanilla_print_matrix(vanilla_result)"
   ]
  },
  {
   "cell_type": "markdown",
   "id": "08bb12f2",
   "metadata": {},
   "source": [
    "##### Перевірка рішень:"
   ]
  },
  {
   "cell_type": "code",
   "execution_count": null,
   "id": "1fb0b5c5",
   "metadata": {},
   "outputs": [],
   "source": [
    "print(np.allclose(numpy_result, vanilla_result))"
   ]
  },
  {
   "cell_type": "markdown",
   "id": "fb78b9be",
   "metadata": {},
   "source": [
    "*Розв'язок з використанням універсальних функцій бібліотеки NumPy та розв'язок за допомогою ітеративних конструкцій однакові за швидкістю*"
   ]
  },
  {
   "cell_type": "markdown",
   "id": "df274421",
   "metadata": {},
   "source": [
    "### Q&A\n",
    "\n",
    "##### 1) Яка основна мета створення NumPy?\n",
    "\n",
    "Основною метою створення NumPy було уникнення неоднозначності при використанні перших бібліотек спеціалізованих обчислень таких як Numeric та Numarray. На даний момент бібліотека використовується як зручний інструмент для роботи з багатовимірними масивами та операціями над ними. \n",
    "\n",
    "##### 2) Наведіть основні ознаки, що відрізняє `ndarray` від списків Python.\n",
    "\n",
    "NumPy `ndarray` кращий за Python `list` у наступних напрямках:\n",
    "\n",
    "1. Розмір - структура даних NumPy займає менше місця;\n",
    "\n",
    "2. Продуктивність - структура даних NumPy швидша;\n",
    "\n",
    "3. Функціональність - структури даних NumPy мають оптимізовані функції, такі як вбудовані операції лінійної алгебри.\n",
    "\n",
    "##### 3) Перерахуйте основні атрибути `ndarray`.\n",
    "\n",
    "`ndarray` має наступні атрибути:\n",
    "\n",
    "- `ndim` - кількість осей (вимірів)\n",
    "\n",
    "- `shape` - розмір кожної осі\n",
    "\n",
    "- `size` - загальний розмір масиву\n",
    "\n",
    "- `dtype` - тип елементів масиву\n",
    "\n",
    "- `itemsize` - розмір в байтах кожного елементу\n",
    "\n",
    "- `nbytes` - загальний розмір масиву в байтах\n",
    "\n",
    "##### 4) Перерахуйте способи створення масивів `ndarray`.\n",
    "\n",
    "Існує два способи створення масивів:\n",
    "\n",
    "1) Передача списку Python у функцію `array()`:\n",
    "   \n",
    "   ```python\n",
    "   list = [1, 2, 3]\n",
    "   \n",
    "   array = np.array(list)\n",
    "   ```\n",
    "\n",
    "2) Або передача списку безпосередньо:\n",
    "   \n",
    "   ```python\n",
    "   array = np.array([1, 2, 3])\n",
    "   ```\n",
    "\n",
    "##### 5) Наведіть основні стандартні типи даних NumPy.\n",
    "\n",
    "Основними типами даних NumPy є:\n",
    "\n",
    "- bool_ - Boolean (True або False), що зберігається як байт\n",
    "\n",
    "- int_ - Цілочисельний тип за замовчуванням (такий же,\n",
    "  \n",
    "  як int64 або int32)\n",
    "\n",
    "- intc - Ідентично int (як правило int32 або int64)\n",
    "\n",
    "- intp - Ціле число, що використовується для індексації\n",
    "  \n",
    "  (як правило int32 або int64)\n",
    "\n",
    "- int8 - Byte (від –128 до 127)\n",
    "\n",
    "- int16 - Ціле (від –32768 до 32767)\n",
    "\n",
    "- int32 - Ціле (від –2147483648 до 2147483647)\n",
    "\n",
    "- int64 - Ціле (від –9223372036854775808 до\n",
    "  \n",
    "  9223372036854775807)\n",
    "\n",
    "- uint8 - Ціле без знаку (від 0 до 255)\n",
    "\n",
    "- uint16 - Ціле без знаку (від 0 до 65535)\n",
    "\n",
    "- uint32 - Ціле без знаку (від 0 до 4294967295)\n",
    "\n",
    "- uint64 - Ціле без знаку (від 0 до 18446744073709551615)\n",
    "\n",
    "- float_ - Скорочення для float64\n",
    "\n",
    "- float16 - Число з рухомою крапкою половинної точності,\n",
    "  знаковий біт, 5-бітна експонента, 10 біт мантиси\n",
    "\n",
    "- float32 - Число з рухомою крапкою одинарної точності,\n",
    "  знаковий біт, 8-бітна експонента, 23 біти мантиси\n",
    "\n",
    "- float64 - Число з рухомою крапкою подвійної точності,\n",
    "  знаковий біт, 11-бітна експонента, 52 біти\n",
    "  мантиси\n",
    "\n",
    "- complex_ - Скорочення для complex128\n",
    "\n",
    "- complex64 - Комплексне число, представлене двома 32-\n",
    "  \n",
    "  бітними числами з рухомою крапкою\n",
    "\n",
    "- complex128 - Комплексне число, представлене двома 64-\n",
    "  \n",
    "  бітними числами з рухомою крапкою\n",
    "\n",
    "##### 6) Що відбудеться при спробі призначення елементу `a[0] = 4.897` масива `ndarray`, що має `dtype=int`?\n",
    "\n",
    "float-значення буде приведено до int\n",
    "\n",
    "##### 7) Що відбудеться при спробі призначення елементу `a[0] = ʼhelloʼ` масива `ndarray`, що має `dtype=int`?\n",
    "\n",
    "Виникне ValueError\n",
    "\n",
    "##### 8) В чому відмінність функцій для зміни форми масиву `reshape()` і `resize()`?\n",
    "\n",
    "Метод `resize()` нічого не повертає, але переформатовує масив, на відміну методу `reshape()`, що тільки повертає представлення масиву, а не сам масив.\n",
    "\n",
    "##### 9) Наведіть відомі вам способи визначення часу виконання коду.\n",
    "\n",
    "Існують чотири команди визначенню часу:\n",
    "\n",
    "- `%time` – час виконання одного оператора;\n",
    "\n",
    "- `%timeit` – середній час повторного виконання одного\n",
    "  оператора для більшої точності;\n",
    "\n",
    "- `%%time` – час виконання всього коду в комірці;\n",
    "\n",
    "- `%%timeit` – середній час виконання всього коду в комірці.\n",
    "\n",
    "Також можна використовувати функцію `time()` з модуля `time`, а потім знаходити різницю між двома викликами цієї функції.\n",
    "\n",
    "##### 10) Перерахуйте арифметичні функції NumPy.\n",
    "\n",
    "Основні арифметичні функції:\n",
    "\n",
    "- `np.add` - Додавання (1 + 1 = 2)\n",
    "\n",
    "- `np.subtract` - Віднімання (2 – 1 = 1)\n",
    "\n",
    "- `np.negative` - Унарний мінус (–2)\n",
    "\n",
    "- `np.multiply` - Множення (2 * 2 = 4)\n",
    "\n",
    "- `np.divide` - Ділення (5 / 2 = 2.5)\n",
    "\n",
    "- `np.floor_divide` - Цілочисельне ділення (5 / 2 = 2)\n",
    "\n",
    "- `np.power` - Піднесення у степінь (2 ** 3 = 8)\n",
    "\n",
    "- `np.mod` - Залишок від ділення (5 / 2 = 1)\n",
    "\n",
    "##### 11) Наведіть способи виклику агрегатних функцій NumPy.\n",
    "\n",
    "Основні способи виклику агрегатних функцій:\n",
    "\n",
    "1) зі вказанням осі (axis)\n",
    "\n",
    "2) без вказання осі (ахіs)\n",
    "\n",
    "##### 12) В чому відмінність функцій стандартної бібліотеки Python від відповідних функцій NumPy?\n",
    "\n",
    "Функції NumPy працюють швидше за відповідні вбудовані функції Python та мають додаткові параметри, що дозволяють виконувати розрахунки за означеними осями.\n"
   ]
  },
  {
   "cell_type": "code",
   "execution_count": null,
   "id": "7a6bc8cc",
   "metadata": {},
   "outputs": [],
   "source": []
  }
 ],
 "metadata": {
  "kernelspec": {
   "display_name": "Python 3 (ipykernel)",
   "language": "python",
   "name": "python3"
  },
  "language_info": {
   "codemirror_mode": {
    "name": "ipython",
    "version": 3
   },
   "file_extension": ".py",
   "mimetype": "text/x-python",
   "name": "python",
   "nbconvert_exporter": "python",
   "pygments_lexer": "ipython3",
   "version": "3.11.5"
  }
 },
 "nbformat": 4,
 "nbformat_minor": 5
}
