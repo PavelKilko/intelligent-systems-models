{
 "cells": [
  {
   "cell_type": "markdown",
   "id": "cffe3f54",
   "metadata": {},
   "source": [
    "# Лабораторна робота №3\n",
    "\n",
    "## Варіант №4"
   ]
  },
  {
   "cell_type": "code",
   "execution_count": 1,
   "id": "62828756",
   "metadata": {},
   "outputs": [],
   "source": [
    "import numpy as np\n",
    "import pandas as pd\n",
    "import matplotlib.pyplot as plt\n",
    "from matplotlib.ticker import FuncFormatter"
   ]
  },
  {
   "cell_type": "code",
   "execution_count": 2,
   "id": "e80a7d23",
   "metadata": {},
   "outputs": [],
   "source": [
    "data = pd.read_csv(\"NationalNames.csv\")"
   ]
  },
  {
   "cell_type": "markdown",
   "id": "ef22adca",
   "metadata": {},
   "source": [
    "### Вправа #1\n",
    "\n",
    "> Виведіть перші 8 рядків набору даних."
   ]
  },
  {
   "cell_type": "code",
   "execution_count": 3,
   "id": "6cc5132b",
   "metadata": {},
   "outputs": [
    {
     "data": {
      "text/html": [
       "<div>\n",
       "<style scoped>\n",
       "    .dataframe tbody tr th:only-of-type {\n",
       "        vertical-align: middle;\n",
       "    }\n",
       "\n",
       "    .dataframe tbody tr th {\n",
       "        vertical-align: top;\n",
       "    }\n",
       "\n",
       "    .dataframe thead th {\n",
       "        text-align: right;\n",
       "    }\n",
       "</style>\n",
       "<table border=\"1\" class=\"dataframe\">\n",
       "  <thead>\n",
       "    <tr style=\"text-align: right;\">\n",
       "      <th></th>\n",
       "      <th>Id</th>\n",
       "      <th>Name</th>\n",
       "      <th>Year</th>\n",
       "      <th>Gender</th>\n",
       "      <th>Count</th>\n",
       "    </tr>\n",
       "  </thead>\n",
       "  <tbody>\n",
       "    <tr>\n",
       "      <th>0</th>\n",
       "      <td>1</td>\n",
       "      <td>Mary</td>\n",
       "      <td>1880</td>\n",
       "      <td>F</td>\n",
       "      <td>7065</td>\n",
       "    </tr>\n",
       "    <tr>\n",
       "      <th>1</th>\n",
       "      <td>2</td>\n",
       "      <td>Anna</td>\n",
       "      <td>1880</td>\n",
       "      <td>F</td>\n",
       "      <td>2604</td>\n",
       "    </tr>\n",
       "    <tr>\n",
       "      <th>2</th>\n",
       "      <td>3</td>\n",
       "      <td>Emma</td>\n",
       "      <td>1880</td>\n",
       "      <td>F</td>\n",
       "      <td>2003</td>\n",
       "    </tr>\n",
       "    <tr>\n",
       "      <th>3</th>\n",
       "      <td>4</td>\n",
       "      <td>Elizabeth</td>\n",
       "      <td>1880</td>\n",
       "      <td>F</td>\n",
       "      <td>1939</td>\n",
       "    </tr>\n",
       "    <tr>\n",
       "      <th>4</th>\n",
       "      <td>5</td>\n",
       "      <td>Minnie</td>\n",
       "      <td>1880</td>\n",
       "      <td>F</td>\n",
       "      <td>1746</td>\n",
       "    </tr>\n",
       "    <tr>\n",
       "      <th>5</th>\n",
       "      <td>6</td>\n",
       "      <td>Margaret</td>\n",
       "      <td>1880</td>\n",
       "      <td>F</td>\n",
       "      <td>1578</td>\n",
       "    </tr>\n",
       "    <tr>\n",
       "      <th>6</th>\n",
       "      <td>7</td>\n",
       "      <td>Ida</td>\n",
       "      <td>1880</td>\n",
       "      <td>F</td>\n",
       "      <td>1472</td>\n",
       "    </tr>\n",
       "    <tr>\n",
       "      <th>7</th>\n",
       "      <td>8</td>\n",
       "      <td>Alice</td>\n",
       "      <td>1880</td>\n",
       "      <td>F</td>\n",
       "      <td>1414</td>\n",
       "    </tr>\n",
       "  </tbody>\n",
       "</table>\n",
       "</div>"
      ],
      "text/plain": [
       "   Id       Name  Year Gender  Count\n",
       "0   1       Mary  1880      F   7065\n",
       "1   2       Anna  1880      F   2604\n",
       "2   3       Emma  1880      F   2003\n",
       "3   4  Elizabeth  1880      F   1939\n",
       "4   5     Minnie  1880      F   1746\n",
       "5   6   Margaret  1880      F   1578\n",
       "6   7        Ida  1880      F   1472\n",
       "7   8      Alice  1880      F   1414"
      ]
     },
     "execution_count": 3,
     "metadata": {},
     "output_type": "execute_result"
    }
   ],
   "source": [
    "data[0:8]"
   ]
  },
  {
   "cell_type": "markdown",
   "id": "7f4bcffe",
   "metadata": {},
   "source": [
    "### Вправа #3\n",
    "\n",
    ">  Отримайте імена стовпців набору даних."
   ]
  },
  {
   "cell_type": "code",
   "execution_count": 4,
   "id": "e2584e7b",
   "metadata": {},
   "outputs": [
    {
     "data": {
      "text/plain": [
       "Index(['Id', 'Name', 'Year', 'Gender', 'Count'], dtype='object')"
      ]
     },
     "execution_count": 4,
     "metadata": {},
     "output_type": "execute_result"
    }
   ],
   "source": [
    "data.columns"
   ]
  },
  {
   "cell_type": "markdown",
   "id": "fecbb3fa",
   "metadata": {},
   "source": [
    "### Вправа #6\n",
    "\n",
    "> Обчисліть кількість унікальних жіночих та чоловічих імен у цілому наборі даних."
   ]
  },
  {
   "cell_type": "code",
   "execution_count": 5,
   "id": "83a96650",
   "metadata": {},
   "outputs": [
    {
     "data": {
      "text/html": [
       "<div>\n",
       "<style scoped>\n",
       "    .dataframe tbody tr th:only-of-type {\n",
       "        vertical-align: middle;\n",
       "    }\n",
       "\n",
       "    .dataframe tbody tr th {\n",
       "        vertical-align: top;\n",
       "    }\n",
       "\n",
       "    .dataframe thead th {\n",
       "        text-align: right;\n",
       "    }\n",
       "</style>\n",
       "<table border=\"1\" class=\"dataframe\">\n",
       "  <thead>\n",
       "    <tr style=\"text-align: right;\">\n",
       "      <th></th>\n",
       "      <th>Name</th>\n",
       "    </tr>\n",
       "    <tr>\n",
       "      <th>Gender</th>\n",
       "      <th></th>\n",
       "    </tr>\n",
       "  </thead>\n",
       "  <tbody>\n",
       "    <tr>\n",
       "      <th>F</th>\n",
       "      <td>64911</td>\n",
       "    </tr>\n",
       "    <tr>\n",
       "      <th>M</th>\n",
       "      <td>39199</td>\n",
       "    </tr>\n",
       "  </tbody>\n",
       "</table>\n",
       "</div>"
      ],
      "text/plain": [
       "         Name\n",
       "Gender       \n",
       "F       64911\n",
       "M       39199"
      ]
     },
     "execution_count": 5,
     "metadata": {},
     "output_type": "execute_result"
    }
   ],
   "source": [
    "pd.DataFrame(data.groupby('Gender')['Name'].nunique())"
   ]
  },
  {
   "cell_type": "markdown",
   "id": "2fc910a6",
   "metadata": {},
   "source": [
    "### Вправа #7\n",
    "\n",
    "> Знайдіть 5 найпопулярніших чоловічих імен у 2010 році."
   ]
  },
  {
   "cell_type": "code",
   "execution_count": 6,
   "id": "c9834ebd",
   "metadata": {},
   "outputs": [
    {
     "data": {
      "text/html": [
       "<div>\n",
       "<style scoped>\n",
       "    .dataframe tbody tr th:only-of-type {\n",
       "        vertical-align: middle;\n",
       "    }\n",
       "\n",
       "    .dataframe tbody tr th {\n",
       "        vertical-align: top;\n",
       "    }\n",
       "\n",
       "    .dataframe thead th {\n",
       "        text-align: right;\n",
       "    }\n",
       "</style>\n",
       "<table border=\"1\" class=\"dataframe\">\n",
       "  <thead>\n",
       "    <tr style=\"text-align: right;\">\n",
       "      <th></th>\n",
       "      <th>Id</th>\n",
       "      <th>Name</th>\n",
       "      <th>Year</th>\n",
       "      <th>Gender</th>\n",
       "      <th>Count</th>\n",
       "    </tr>\n",
       "  </thead>\n",
       "  <tbody>\n",
       "    <tr>\n",
       "      <th>1657592</th>\n",
       "      <td>1657593</td>\n",
       "      <td>Isabella</td>\n",
       "      <td>2010</td>\n",
       "      <td>F</td>\n",
       "      <td>22883</td>\n",
       "    </tr>\n",
       "    <tr>\n",
       "      <th>1657593</th>\n",
       "      <td>1657594</td>\n",
       "      <td>Sophia</td>\n",
       "      <td>2010</td>\n",
       "      <td>F</td>\n",
       "      <td>20612</td>\n",
       "    </tr>\n",
       "    <tr>\n",
       "      <th>1657594</th>\n",
       "      <td>1657595</td>\n",
       "      <td>Emma</td>\n",
       "      <td>2010</td>\n",
       "      <td>F</td>\n",
       "      <td>17322</td>\n",
       "    </tr>\n",
       "    <tr>\n",
       "      <th>1657595</th>\n",
       "      <td>1657596</td>\n",
       "      <td>Olivia</td>\n",
       "      <td>2010</td>\n",
       "      <td>F</td>\n",
       "      <td>17012</td>\n",
       "    </tr>\n",
       "    <tr>\n",
       "      <th>1657596</th>\n",
       "      <td>1657597</td>\n",
       "      <td>Ava</td>\n",
       "      <td>2010</td>\n",
       "      <td>F</td>\n",
       "      <td>15418</td>\n",
       "    </tr>\n",
       "  </tbody>\n",
       "</table>\n",
       "</div>"
      ],
      "text/plain": [
       "              Id      Name  Year Gender  Count\n",
       "1657592  1657593  Isabella  2010      F  22883\n",
       "1657593  1657594    Sophia  2010      F  20612\n",
       "1657594  1657595      Emma  2010      F  17322\n",
       "1657595  1657596    Olivia  2010      F  17012\n",
       "1657596  1657597       Ava  2010      F  15418"
      ]
     },
     "execution_count": 6,
     "metadata": {},
     "output_type": "execute_result"
    }
   ],
   "source": [
    "data[data['Year'] == 2010][0:5]"
   ]
  },
  {
   "cell_type": "markdown",
   "id": "1447dd7d",
   "metadata": {},
   "source": [
    "### Вправа #8\n",
    "\n",
    "> Знайдіть найпопулярніше імʼя за результатами одного року (імʼя, для якого `Count` максимальне)."
   ]
  },
  {
   "cell_type": "code",
   "execution_count": 7,
   "id": "502577da",
   "metadata": {},
   "outputs": [
    {
     "name": "stdout",
     "output_type": "stream",
     "text": [
      "The name is 'Linda' in 1947\n"
     ]
    }
   ],
   "source": [
    "selection = data[data['Count'] == data['Count'].max()][['Name', 'Year']]\n",
    "\n",
    "print(f\"The name is \\'{selection.values[0][0]}\\' in {selection.values[0][1]}\")"
   ]
  },
  {
   "cell_type": "markdown",
   "id": "74f06f70",
   "metadata": {},
   "source": [
    "### Вправа #12\n",
    "\n",
    "> Знайдіть найпопулярніше імʼя в році з найбільшою кількістю унікальних імен (тобто у 2008 році)."
   ]
  },
  {
   "cell_type": "code",
   "execution_count": 8,
   "id": "387bf858",
   "metadata": {},
   "outputs": [
    {
     "data": {
      "text/plain": [
       "'Jacob'"
      ]
     },
     "execution_count": 8,
     "metadata": {},
     "output_type": "execute_result"
    }
   ],
   "source": [
    "data[(data['Year'] == 2008) & (data['Count'] == data[data['Year'] == 2008]['Count'].max())]['Name'].values[0]"
   ]
  },
  {
   "cell_type": "markdown",
   "id": "f74f2c06",
   "metadata": {},
   "source": [
    "### Вправа #13\n",
    "\n",
    "> Знайдіть рік, коли ім’я “Jacob” було найпопулярнішим серед жіночих імен."
   ]
  },
  {
   "cell_type": "code",
   "execution_count": 9,
   "id": "43f74fd2",
   "metadata": {},
   "outputs": [
    {
     "data": {
      "text/html": [
       "<div>\n",
       "<style scoped>\n",
       "    .dataframe tbody tr th:only-of-type {\n",
       "        vertical-align: middle;\n",
       "    }\n",
       "\n",
       "    .dataframe tbody tr th {\n",
       "        vertical-align: top;\n",
       "    }\n",
       "\n",
       "    .dataframe thead th {\n",
       "        text-align: right;\n",
       "    }\n",
       "</style>\n",
       "<table border=\"1\" class=\"dataframe\">\n",
       "  <thead>\n",
       "    <tr style=\"text-align: right;\">\n",
       "      <th></th>\n",
       "      <th>Id</th>\n",
       "      <th>Name</th>\n",
       "      <th>Year</th>\n",
       "      <th>Gender</th>\n",
       "      <th>Count</th>\n",
       "    </tr>\n",
       "  </thead>\n",
       "  <tbody>\n",
       "    <tr>\n",
       "      <th>1455556</th>\n",
       "      <td>1455557</td>\n",
       "      <td>Jacob</td>\n",
       "      <td>2004</td>\n",
       "      <td>F</td>\n",
       "      <td>171</td>\n",
       "    </tr>\n",
       "  </tbody>\n",
       "</table>\n",
       "</div>"
      ],
      "text/plain": [
       "              Id   Name  Year Gender  Count\n",
       "1455556  1455557  Jacob  2004      F    171"
      ]
     },
     "execution_count": 9,
     "metadata": {},
     "output_type": "execute_result"
    }
   ],
   "source": [
    "selection = data[(data['Name'] == 'Jacob') & (data['Gender'] == 'F')]\n",
    "selection = selection[selection['Count'] == selection['Count'].max()]\n",
    "selection"
   ]
  },
  {
   "cell_type": "markdown",
   "id": "fa5b3b57",
   "metadata": {},
   "source": [
    "### Вправа #14\n",
    "\n",
    "> Знайти рік із найбільшою кількістю гендерно нейтральних імен (однакові чоловічі та жіночі імена)."
   ]
  },
  {
   "cell_type": "code",
   "execution_count": 10,
   "id": "489b0a57",
   "metadata": {},
   "outputs": [
    {
     "data": {
      "text/html": [
       "<style type=\"text/css\">\n",
       "</style>\n",
       "<table id=\"T_898d5\">\n",
       "  <thead>\n",
       "    <tr>\n",
       "      <th id=\"T_898d5_level0_col0\" class=\"col_heading level0 col0\" >Year</th>\n",
       "      <th id=\"T_898d5_level0_col1\" class=\"col_heading level0 col1\" >Gender_neutral_names</th>\n",
       "    </tr>\n",
       "  </thead>\n",
       "  <tbody>\n",
       "    <tr>\n",
       "      <td id=\"T_898d5_row0_col0\" class=\"data row0 col0\" >2008</td>\n",
       "      <td id=\"T_898d5_row0_col1\" class=\"data row0 col1\" >2557</td>\n",
       "    </tr>\n",
       "  </tbody>\n",
       "</table>\n"
      ],
      "text/plain": [
       "<pandas.io.formats.style.Styler at 0x7fdedc7f1350>"
      ]
     },
     "execution_count": 10,
     "metadata": {},
     "output_type": "execute_result"
    }
   ],
   "source": [
    "selection = data.groupby(['Year', 'Name'])['Gender'].nunique().reset_index()\n",
    "selection = selection[selection['Gender'] == 2]\n",
    "selection = selection.groupby('Year').size().reset_index(name='Gender_neutral_names')\n",
    "selection = selection.loc[selection['Gender_neutral_names'].idxmax()]\n",
    "\n",
    "pd.DataFrame(selection).T.style.hide()"
   ]
  },
  {
   "cell_type": "markdown",
   "id": "42283719",
   "metadata": {},
   "source": [
    "### Вправа #15\n",
    "\n",
    "> Знайдіть загальну кількість народжень за рік."
   ]
  },
  {
   "cell_type": "code",
   "execution_count": 11,
   "id": "804b1333",
   "metadata": {},
   "outputs": [
    {
     "data": {
      "text/html": [
       "<style type=\"text/css\">\n",
       "</style>\n",
       "<table id=\"T_5c6a1\">\n",
       "  <thead>\n",
       "    <tr>\n",
       "      <th id=\"T_5c6a1_level0_col0\" class=\"col_heading level0 col0\" >Year</th>\n",
       "      <th id=\"T_5c6a1_level0_col1\" class=\"col_heading level0 col1\" >Count</th>\n",
       "    </tr>\n",
       "  </thead>\n",
       "  <tbody>\n",
       "    <tr>\n",
       "      <td id=\"T_5c6a1_row0_col0\" class=\"data row0 col0\" >1880</td>\n",
       "      <td id=\"T_5c6a1_row0_col1\" class=\"data row0 col1\" >201484</td>\n",
       "    </tr>\n",
       "    <tr>\n",
       "      <td id=\"T_5c6a1_row1_col0\" class=\"data row1 col0\" >1881</td>\n",
       "      <td id=\"T_5c6a1_row1_col1\" class=\"data row1 col1\" >192699</td>\n",
       "    </tr>\n",
       "    <tr>\n",
       "      <td id=\"T_5c6a1_row2_col0\" class=\"data row2 col0\" >1882</td>\n",
       "      <td id=\"T_5c6a1_row2_col1\" class=\"data row2 col1\" >221538</td>\n",
       "    </tr>\n",
       "    <tr>\n",
       "      <td id=\"T_5c6a1_row3_col0\" class=\"data row3 col0\" >1883</td>\n",
       "      <td id=\"T_5c6a1_row3_col1\" class=\"data row3 col1\" >216950</td>\n",
       "    </tr>\n",
       "    <tr>\n",
       "      <td id=\"T_5c6a1_row4_col0\" class=\"data row4 col0\" >1884</td>\n",
       "      <td id=\"T_5c6a1_row4_col1\" class=\"data row4 col1\" >243467</td>\n",
       "    </tr>\n",
       "  </tbody>\n",
       "</table>\n"
      ],
      "text/plain": [
       "<pandas.io.formats.style.Styler at 0x7fded4f05110>"
      ]
     },
     "execution_count": 11,
     "metadata": {},
     "output_type": "execute_result"
    }
   ],
   "source": [
    "selection = data.groupby('Year')['Count'].sum().reset_index(name='Count')\n",
    "\n",
    "selection[0:5].style.hide()"
   ]
  },
  {
   "cell_type": "markdown",
   "id": "249675f3",
   "metadata": {},
   "source": [
    "### Вправа #16\n",
    "\n",
    "> Знайдіть рік, коли народилося найбільше дітей."
   ]
  },
  {
   "cell_type": "code",
   "execution_count": 12,
   "id": "9645657d",
   "metadata": {},
   "outputs": [
    {
     "data": {
      "text/plain": [
       "1957"
      ]
     },
     "execution_count": 12,
     "metadata": {},
     "output_type": "execute_result"
    }
   ],
   "source": [
    "selection = data.groupby('Year')['Count'].sum().reset_index(name='Count')\n",
    "selection = selection.loc[selection['Count'].idxmax()]\n",
    "\n",
    "selection[0]"
   ]
  },
  {
   "cell_type": "markdown",
   "id": "fe29610f",
   "metadata": {},
   "source": [
    "### Вправа #17\n",
    "\n",
    "> Знайдіть кількість дівчаток та хлопчиків, які народились кожного року."
   ]
  },
  {
   "cell_type": "code",
   "execution_count": 13,
   "id": "95aca4cb",
   "metadata": {},
   "outputs": [
    {
     "data": {
      "text/html": [
       "<div>\n",
       "<style scoped>\n",
       "    .dataframe tbody tr th:only-of-type {\n",
       "        vertical-align: middle;\n",
       "    }\n",
       "\n",
       "    .dataframe tbody tr th {\n",
       "        vertical-align: top;\n",
       "    }\n",
       "\n",
       "    .dataframe thead th {\n",
       "        text-align: right;\n",
       "    }\n",
       "</style>\n",
       "<table border=\"1\" class=\"dataframe\">\n",
       "  <thead>\n",
       "    <tr style=\"text-align: right;\">\n",
       "      <th>Gender</th>\n",
       "      <th>F</th>\n",
       "      <th>M</th>\n",
       "    </tr>\n",
       "    <tr>\n",
       "      <th>Year</th>\n",
       "      <th></th>\n",
       "      <th></th>\n",
       "    </tr>\n",
       "  </thead>\n",
       "  <tbody>\n",
       "    <tr>\n",
       "      <th>1880</th>\n",
       "      <td>90993</td>\n",
       "      <td>110491</td>\n",
       "    </tr>\n",
       "    <tr>\n",
       "      <th>1881</th>\n",
       "      <td>91954</td>\n",
       "      <td>100745</td>\n",
       "    </tr>\n",
       "    <tr>\n",
       "      <th>1882</th>\n",
       "      <td>107850</td>\n",
       "      <td>113688</td>\n",
       "    </tr>\n",
       "    <tr>\n",
       "      <th>1883</th>\n",
       "      <td>112321</td>\n",
       "      <td>104629</td>\n",
       "    </tr>\n",
       "    <tr>\n",
       "      <th>1884</th>\n",
       "      <td>129022</td>\n",
       "      <td>114445</td>\n",
       "    </tr>\n",
       "  </tbody>\n",
       "</table>\n",
       "</div>"
      ],
      "text/plain": [
       "Gender       F       M\n",
       "Year                  \n",
       "1880     90993  110491\n",
       "1881     91954  100745\n",
       "1882    107850  113688\n",
       "1883    112321  104629\n",
       "1884    129022  114445"
      ]
     },
     "execution_count": 13,
     "metadata": {},
     "output_type": "execute_result"
    }
   ],
   "source": [
    "selection = data.groupby(['Year', 'Gender'])['Count'].sum().unstack(fill_value=0)\n",
    "\n",
    "selection[0:5]"
   ]
  },
  {
   "cell_type": "markdown",
   "id": "ce1658bd",
   "metadata": {},
   "source": [
    "### Вправа #19\n",
    "\n",
    "> Накресліть графік загальної кількості народжень хлопчиків та дівчаток на рік."
   ]
  },
  {
   "cell_type": "code",
   "execution_count": 14,
   "id": "fc84f3c7",
   "metadata": {},
   "outputs": [
    {
     "data": {
      "image/png": "[encoded data removed]",
      "text/plain": [
       "<Figure size 640x480 with 1 Axes>"
      ]
     },
     "metadata": {},
     "output_type": "display_data"
    }
   ],
   "source": [
    "selection = data.groupby(['Year', 'Gender'])['Count'].sum().unstack(fill_value=0)\n",
    "\n",
    "ax = selection.plot(kind='line')\n",
    "plt.xlabel('Year')\n",
    "plt.ylabel('total births per year')\n",
    "plt.legend(title='Gender')\n",
    "\n",
    "formatter = FuncFormatter(lambda x, _: format(int(x)))\n",
    "ax.yaxis.set_major_formatter(formatter)\n",
    "\n",
    "plt.tight_layout()\n",
    "plt.show()"
   ]
  },
  {
   "cell_type": "markdown",
   "id": "6d23b207",
   "metadata": {},
   "source": [
    "### Вправа #20\n",
    "\n",
    "> Підрахуйте кількість гендерно-нейтральних імен (однакових для дівчат та хлопців)."
   ]
  },
  {
   "cell_type": "code",
   "execution_count": 15,
   "id": "19da2b0c",
   "metadata": {},
   "outputs": [
    {
     "data": {
      "text/plain": [
       "10221"
      ]
     },
     "execution_count": 15,
     "metadata": {},
     "output_type": "execute_result"
    }
   ],
   "source": [
    "selection = data.groupby('Name')['Gender'].nunique().reset_index()\n",
    "\n",
    "selection[selection['Gender'] == 2].count()[0]"
   ]
  },
  {
   "cell_type": "markdown",
   "id": "9f5c8782",
   "metadata": {},
   "source": [
    "### Вправа #22\n",
    "\n",
    "> Підрахуйте скільки років проводилось спостереження."
   ]
  },
  {
   "cell_type": "code",
   "execution_count": 16,
   "id": "8660dfc8",
   "metadata": {},
   "outputs": [
    {
     "data": {
      "text/plain": [
       "'Спостереження проводилось 135 років'"
      ]
     },
     "execution_count": 16,
     "metadata": {},
     "output_type": "execute_result"
    }
   ],
   "source": [
    "f\"Спостереження проводилось {data['Year'].max() - data['Year'].min() + 1} років\""
   ]
  },
  {
   "cell_type": "markdown",
   "id": "95572251",
   "metadata": {},
   "source": [
    "### Вправа #25\n",
    "\n",
    "> Побудувати графіки розподілення кількості імен John та Mary по роках без залежності до статі."
   ]
  },
  {
   "cell_type": "code",
   "execution_count": 17,
   "id": "b3433570",
   "metadata": {},
   "outputs": [
    {
     "data": {
      "image/png": "[encoded data removed]",
      "text/plain": [
       "<Figure size 640x480 with 1 Axes>"
      ]
     },
     "metadata": {},
     "output_type": "display_data"
    }
   ],
   "source": [
    "selection = data[data['Name'].isin(['Mary', 'John'])]\n",
    "selection = selection.groupby(['Year', 'Name'])['Count'].sum().unstack(fill_value=0)\n",
    "\n",
    "ax = selection.plot(kind='line')\n",
    "plt.xlabel('Year')\n",
    "plt.legend(title='Name')\n",
    "\n",
    "formatter = FuncFormatter(lambda x, _: format(int(x)))\n",
    "ax.yaxis.set_major_formatter(formatter)\n",
    "\n",
    "plt.tight_layout()\n",
    "plt.show()"
   ]
  },
  {
   "cell_type": "markdown",
   "id": "72929241",
   "metadata": {},
   "source": [
    "### Вправа #26\n",
    "\n",
    "> Побудувати графіки розподілення кількості жіночих імен John та чоловічих імен Mary по роках."
   ]
  },
  {
   "cell_type": "code",
   "execution_count": 18,
   "id": "8f94bd50",
   "metadata": {},
   "outputs": [
    {
     "data": {
      "image/png": "[encoded data removed]",
      "text/plain": [
       "<Figure size 640x480 with 1 Axes>"
      ]
     },
     "metadata": {},
     "output_type": "display_data"
    }
   ],
   "source": [
    "df = pd.DataFrame(data)\n",
    "\n",
    "selection1 = data[(data['Name'] == 'John') & (data['Gender'] == 'F')]\n",
    "selection2 = data[(data['Name'] == 'Mary') & (data['Gender'] == 'M')]\n",
    "\n",
    "selection = pd.concat([selection1, selection2], ignore_index=True)\n",
    "selection = selection.groupby(['Year', 'Name'])['Count'].sum().unstack(fill_value=0)\n",
    "\n",
    "ax = selection.plot(kind='line')\n",
    "plt.xlabel('Year')\n",
    "plt.legend(title='Name')\n",
    "\n",
    "formatter = FuncFormatter(lambda x, _: format(int(x)))\n",
    "ax.yaxis.set_major_formatter(formatter)\n",
    "\n",
    "plt.tight_layout()\n",
    "plt.show()"
   ]
  },
  {
   "cell_type": "markdown",
   "id": "ab1fdf14",
   "metadata": {},
   "source": [
    "### Вправа #27\n",
    "\n",
    "> Знайти найпопулярніші імена в кожному році."
   ]
  },
  {
   "cell_type": "code",
   "execution_count": 19,
   "id": "b362600f",
   "metadata": {},
   "outputs": [
    {
     "data": {
      "text/html": [
       "<div>\n",
       "<style scoped>\n",
       "    .dataframe tbody tr th:only-of-type {\n",
       "        vertical-align: middle;\n",
       "    }\n",
       "\n",
       "    .dataframe tbody tr th {\n",
       "        vertical-align: top;\n",
       "    }\n",
       "\n",
       "    .dataframe thead th {\n",
       "        text-align: right;\n",
       "    }\n",
       "</style>\n",
       "<table border=\"1\" class=\"dataframe\">\n",
       "  <thead>\n",
       "    <tr style=\"text-align: right;\">\n",
       "      <th></th>\n",
       "      <th>Name</th>\n",
       "      <th>Count</th>\n",
       "    </tr>\n",
       "    <tr>\n",
       "      <th>Year</th>\n",
       "      <th></th>\n",
       "      <th></th>\n",
       "    </tr>\n",
       "  </thead>\n",
       "  <tbody>\n",
       "    <tr>\n",
       "      <th>1880</th>\n",
       "      <td>John</td>\n",
       "      <td>9655</td>\n",
       "    </tr>\n",
       "    <tr>\n",
       "      <th>1881</th>\n",
       "      <td>John</td>\n",
       "      <td>8769</td>\n",
       "    </tr>\n",
       "    <tr>\n",
       "      <th>1882</th>\n",
       "      <td>John</td>\n",
       "      <td>9557</td>\n",
       "    </tr>\n",
       "    <tr>\n",
       "      <th>1883</th>\n",
       "      <td>John</td>\n",
       "      <td>8894</td>\n",
       "    </tr>\n",
       "    <tr>\n",
       "      <th>1884</th>\n",
       "      <td>John</td>\n",
       "      <td>9388</td>\n",
       "    </tr>\n",
       "    <tr>\n",
       "      <th>...</th>\n",
       "      <td>...</td>\n",
       "      <td>...</td>\n",
       "    </tr>\n",
       "    <tr>\n",
       "      <th>2010</th>\n",
       "      <td>Isabella</td>\n",
       "      <td>22883</td>\n",
       "    </tr>\n",
       "    <tr>\n",
       "      <th>2011</th>\n",
       "      <td>Sophia</td>\n",
       "      <td>21816</td>\n",
       "    </tr>\n",
       "    <tr>\n",
       "      <th>2012</th>\n",
       "      <td>Sophia</td>\n",
       "      <td>22267</td>\n",
       "    </tr>\n",
       "    <tr>\n",
       "      <th>2013</th>\n",
       "      <td>Sophia</td>\n",
       "      <td>21147</td>\n",
       "    </tr>\n",
       "    <tr>\n",
       "      <th>2014</th>\n",
       "      <td>Emma</td>\n",
       "      <td>20799</td>\n",
       "    </tr>\n",
       "  </tbody>\n",
       "</table>\n",
       "<p>135 rows × 2 columns</p>\n",
       "</div>"
      ],
      "text/plain": [
       "          Name  Count\n",
       "Year                 \n",
       "1880      John   9655\n",
       "1881      John   8769\n",
       "1882      John   9557\n",
       "1883      John   8894\n",
       "1884      John   9388\n",
       "...        ...    ...\n",
       "2010  Isabella  22883\n",
       "2011    Sophia  21816\n",
       "2012    Sophia  22267\n",
       "2013    Sophia  21147\n",
       "2014      Emma  20799\n",
       "\n",
       "[135 rows x 2 columns]"
      ]
     },
     "execution_count": 19,
     "metadata": {},
     "output_type": "execute_result"
    }
   ],
   "source": [
    "selection = data.groupby('Year').apply(lambda x: x.loc[x['Count'].idxmax()])[['Name', 'Count']]\n",
    "\n",
    "selection"
   ]
  },
  {
   "cell_type": "markdown",
   "id": "b487df3a",
   "metadata": {},
   "source": [
    "### Q&A\n",
    "\n",
    "##### 1. Чи потребує бібліотека Pandas окремого встановлення?\n",
    "\n",
    "Так, якщо не використовується стек Anaconda.\n",
    "\n",
    "##### 2. Назвіть та охарактеризуйте структури даних Pandas.\n",
    "\n",
    "Основними структурами даних Pandas є:\n",
    "\n",
    "- `Series`: одновимірний масив індексованих даних.\n",
    "\n",
    "- `Index`: одновимірний незмінний масив індексів.\n",
    "\n",
    "- `DataFrame`: двовимірний масив з гнучкими індексами рядків і гнучкими іменами стовпців.\n",
    "\n",
    "##### 3. В чому збіжність та відмінність Pandas `Series` від одновимірного масиву `ndarray`?\n",
    "\n",
    "Суттєвою відмінністю є наявність індексу: якщо `ndarray` має неявно визначений цілочисельний індекс, що використовується для доступу до значень, то `Series` має явно визначений індекс, повʼязаний зі значеннями. Збіжність полягає в тому що `Series` фактично є надбудовою `ndarray`.\n",
    "\n",
    "##### 4. В чому збіжність та відмінність Pandas `DataFrame` від двовимірного масиву `ndarray`?\n",
    "\n",
    "`DataFrame` є послідовністю обʼєктів `Series`, тому він зберігає всі збіжності та відмінності від нього з `ndarray`.\n",
    "\n",
    "##### 5. Які властивості Pandas `Series` та `DataFrame` походять від стандартних словників Python?\n",
    "\n",
    "Відповідність ключ до значення.\n",
    "\n",
    "##### 6. Охарактеризуйте методи доступу до елементів з використанням явного та неявного індексів.\n",
    "\n",
    "Основними методами доступу до елементів є:\n",
    "\n",
    "- використання явного індексу:\n",
    "  \n",
    "  ```python\n",
    "  data = pd.Series(['a', 'b', 'c'], index=[1, 3, 5])\n",
    "  \n",
    "  print(data[1]) # output: 'a'\n",
    "  ```\n",
    "\n",
    "- використання неявного індексу:\n",
    "  \n",
    "  ```python\n",
    "  data = pd.Series(['a', 'b', 'c'], index=[1, 3, 5])\n",
    "  \n",
    "  print(data[1:3]) \n",
    "  # output: \n",
    "  # 3 b\n",
    "  # 5 c\n",
    "  # dtype: object\n",
    "  ```\n",
    "\n",
    "##### 7. В чому полягає перевага використання атрибутів `loc` і `iloc`?\n",
    "\n",
    "Використання цих атрибутів дозволяє уникнути плутанини з явними/неявними індексами.\n",
    "\n",
    "##### 8. В чому сутність операції збереження індексу?\n",
    "\n",
    "При проведені операцій над обʼєктами `Series`, `Index` та `DataFrame` будуть створенні нові обʼєкти зі збереженими індексами.\n",
    "\n",
    "##### 9. В чому сутність операції вирівнювання індексу?\n",
    "\n",
    "Операція вирівнювання дозволяє проводити операції над обʼєктами `Series`, `Index` та `DataFrame`, які між собою є нерівномірними (елементи одного обʼєкта можуть бути відсутні в іншому, але при цьому операції будуть виконуватись оскільки для відсутніх елементів будуть генеруватися `NaN` значення)\n",
    "\n",
    "##### 10. Для яких обʼєктів Pandas застосовуються операції вирівнювання та збереження індексів?\n",
    "\n",
    "Для обʼєктів `Series`, `Index` та `DataFrame`."
   ]
  }
 ],
 "metadata": {
  "kernelspec": {
   "display_name": "Python 3 (ipykernel)",
   "language": "python",
   "name": "python3"
  },
  "language_info": {
   "codemirror_mode": {
    "name": "ipython",
    "version": 3
   },
   "file_extension": ".py",
   "mimetype": "text/x-python",
   "name": "python",
   "nbconvert_exporter": "python",
   "pygments_lexer": "ipython3",
   "version": "3.11.5"
  }
 },
 "nbformat": 4,
 "nbformat_minor": 5
}
