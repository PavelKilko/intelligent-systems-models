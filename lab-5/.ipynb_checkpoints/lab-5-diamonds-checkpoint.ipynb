{
 "cells": [
  {
   "cell_type": "code",
   "execution_count": null,
   "id": "c10745fd",
   "metadata": {},
   "outputs": [],
   "source": [
    "import pandas as pd\n",
    "\n",
    "diamonds = pd.read_csv(\"diamonds.csv\")"
   ]
  },
  {
   "cell_type": "code",
   "execution_count": null,
   "id": "4c8c71a3",
   "metadata": {},
   "outputs": [],
   "source": [
    "diamonds.head()"
   ]
  },
  {
   "cell_type": "markdown",
   "id": "13ed354b",
   "metadata": {},
   "source": [
    "*Removing column \"Unnamed: 0\"*"
   ]
  },
  {
   "cell_type": "code",
   "execution_count": null,
   "id": "2221eba6",
   "metadata": {},
   "outputs": [],
   "source": [
    "diamonds.drop(columns=[\"Unnamed: 0\"], inplace=True)"
   ]
  },
  {
   "cell_type": "code",
   "execution_count": null,
   "id": "f4063e3f",
   "metadata": {},
   "outputs": [],
   "source": [
    "diamonds"
   ]
  },
  {
   "cell_type": "code",
   "execution_count": null,
   "id": "fa051553",
   "metadata": {},
   "outputs": [],
   "source": [
    "diamonds.info()"
   ]
  },
  {
   "cell_type": "code",
   "execution_count": null,
   "id": "2058c6f8",
   "metadata": {},
   "outputs": [],
   "source": [
    "diamonds[\"cut\"].value_counts()"
   ]
  },
  {
   "cell_type": "code",
   "execution_count": null,
   "id": "2e21f376",
   "metadata": {},
   "outputs": [],
   "source": [
    "diamonds[\"color\"].value_counts()"
   ]
  },
  {
   "cell_type": "code",
   "execution_count": null,
   "id": "8f846f67",
   "metadata": {},
   "outputs": [],
   "source": [
    "diamonds[\"clarity\"].value_counts()"
   ]
  },
  {
   "cell_type": "code",
   "execution_count": null,
   "id": "b79934e4",
   "metadata": {},
   "outputs": [],
   "source": [
    "diamonds.describe()"
   ]
  },
  {
   "cell_type": "code",
   "execution_count": null,
   "id": "96d0f613",
   "metadata": {},
   "outputs": [],
   "source": [
    "%matplotlib inline\n",
    "\n",
    "import matplotlib.pyplot as plt\n",
    "\n",
    "diamonds.hist(bins=25, figsize=(20, 15))\n",
    "\n",
    "plt.show()"
   ]
  },
  {
   "cell_type": "code",
   "execution_count": null,
   "id": "ebc14d0b",
   "metadata": {},
   "outputs": [],
   "source": [
    "from sklearn.model_selection import train_test_split\n",
    "\n",
    "train_set, test_set = train_test_split(diamonds, test_size=0.2, random_state=42)"
   ]
  },
  {
   "cell_type": "code",
   "execution_count": null,
   "id": "d0216f73",
   "metadata": {},
   "outputs": [],
   "source": [
    "test_set.head()"
   ]
  },
  {
   "cell_type": "code",
   "execution_count": null,
   "id": "d33527b9",
   "metadata": {},
   "outputs": [],
   "source": [
    "diamonds[\"price\"].hist()"
   ]
  },
  {
   "cell_type": "code",
   "execution_count": null,
   "id": "4c7a95e3",
   "metadata": {},
   "outputs": [],
   "source": [
    "import numpy as np\n",
    "\n",
    "diamonds[\"price_cat\"] = pd.cut(diamonds[\"price\"],\n",
    "                              bins=[0, 3750, 7500, 11250, 15000, np.inf],\n",
    "                              labels=[1, 2, 3, 4, 5])"
   ]
  },
  {
   "cell_type": "code",
   "execution_count": null,
   "id": "19973233",
   "metadata": {},
   "outputs": [],
   "source": [
    "diamonds[\"price_cat\"].hist()"
   ]
  },
  {
   "cell_type": "code",
   "execution_count": null,
   "id": "af1cfc40",
   "metadata": {},
   "outputs": [],
   "source": [
    "from sklearn.model_selection import StratifiedShuffleSplit\n",
    "\n",
    "split = StratifiedShuffleSplit(n_splits=1, test_size=0.2, random_state=42)\n",
    "\n",
    "for train_index, test_index in split.split(diamonds, diamonds[\"price_cat\"]):\n",
    "    strat_train_set = diamonds.loc[train_index]\n",
    "    strat_test_set = diamonds.loc[test_index]"
   ]
  },
  {
   "cell_type": "code",
   "execution_count": null,
   "id": "af04f121",
   "metadata": {},
   "outputs": [],
   "source": [
    "strat_test_set[\"price_cat\"].value_counts() / len(strat_test_set)"
   ]
  },
  {
   "cell_type": "code",
   "execution_count": null,
   "id": "d7dd4a3c",
   "metadata": {},
   "outputs": [],
   "source": [
    "diamonds[\"price_cat\"].value_counts() / len(diamonds)"
   ]
  },
  {
   "cell_type": "code",
   "execution_count": null,
   "id": "27fd2fbf",
   "metadata": {},
   "outputs": [],
   "source": [
    "def price_cat_proportions(data):\n",
    "    return data[\"price_cat\"].value_counts() / len(data)\n",
    "\n",
    "train_set, test_set = train_test_split(diamonds, test_size=0.2, random_state=42)\n",
    "\n",
    "compare_props = pd.DataFrame({\n",
    "    \"Overall\": price_cat_proportions(diamonds),\n",
    "    \"Stratified\": price_cat_proportions(strat_test_set),\n",
    "    \"Random\": price_cat_proportions(test_set),\n",
    "}).sort_index()\n",
    "compare_props[\"Rand. %error\"] = 100 * compare_props[\"Random\"] / compare_props[\"Overall\"] - 100\n",
    "compare_props[\"Strat. %error\"] = 100 * compare_props[\"Stratified\"] / compare_props[\"Overall\"] - 100"
   ]
  },
  {
   "cell_type": "code",
   "execution_count": null,
   "id": "c49308c9",
   "metadata": {},
   "outputs": [],
   "source": [
    "compare_props"
   ]
  },
  {
   "cell_type": "code",
   "execution_count": null,
   "id": "6682983d",
   "metadata": {},
   "outputs": [],
   "source": [
    "for set_ in (strat_train_set, strat_test_set):\n",
    "    set_.drop(\"price_cat\", axis=1, inplace=True)"
   ]
  },
  {
   "cell_type": "code",
   "execution_count": null,
   "id": "72e3ae4d",
   "metadata": {},
   "outputs": [],
   "source": [
    "diamonds = strat_train_set.copy()"
   ]
  },
  {
   "cell_type": "code",
   "execution_count": null,
   "id": "7981c14f",
   "metadata": {},
   "outputs": [],
   "source": [
    "%matplotlib notebook\n",
    "\n",
    "fig = plt.figure(figsize=(8, 8))\n",
    "ax = fig.add_subplot(111, projection='3d')\n",
    "\n",
    "# Plot the points\n",
    "scatter = ax.scatter(diamonds['x'], diamonds['y'], diamonds['z'], \n",
    "                     s=diamonds[\"carat\"] * 100, label=\"carat\",\n",
    "                     c=diamonds[\"price\"], cmap=\"jet\", \n",
    "                     alpha=0.2)\n",
    "\n",
    "# Set labels and title\n",
    "ax.set_xlabel('X')\n",
    "ax.set_ylabel('Y')\n",
    "ax.set_zlabel('Z')\n",
    "ax.set_title('3D Scatter Plot of Diamonds Data')\n",
    "\n",
    "ax.set_xlim(0, 11)\n",
    "ax.set_ylim(0, 60)\n",
    "ax.set_zlim(0, 32)\n",
    "\n",
    "cbar = fig.colorbar(scatter, ax=ax, label='Price')\n",
    "\n",
    "plt.legend()\n",
    "\n",
    "# Show plot\n",
    "plt.show()"
   ]
  },
  {
   "cell_type": "code",
   "execution_count": null,
   "id": "fd5f4a55",
   "metadata": {},
   "outputs": [],
   "source": [
    "corr_matrix = diamonds.corr(numeric_only=True)"
   ]
  },
  {
   "cell_type": "code",
   "execution_count": null,
   "id": "3b044a02",
   "metadata": {},
   "outputs": [],
   "source": [
    "corr_matrix[\"price\"].sort_values(ascending=False)"
   ]
  },
  {
   "cell_type": "code",
   "execution_count": null,
   "id": "6e49422b",
   "metadata": {},
   "outputs": [],
   "source": [
    "%matplotlib inline\n",
    "\n",
    "from pandas.plotting import scatter_matrix\n",
    "\n",
    "attributes = [\"price\", \"carat\", \"x\", \"y\", \"z\", \"table\"]\n",
    "\n",
    "scatter_matrix(diamonds[attributes], figsize=(10, 10))\n",
    "\n",
    "plt.show()"
   ]
  },
  {
   "cell_type": "code",
   "execution_count": null,
   "id": "59ed069f",
   "metadata": {},
   "outputs": [],
   "source": [
    "diamonds.plot(kind=\"scatter\", x=\"carat\", y=\"price\", alpha=0.1)"
   ]
  },
  {
   "cell_type": "code",
   "execution_count": null,
   "id": "00043e75",
   "metadata": {},
   "outputs": [],
   "source": [
    "diamonds[\"area\"] = diamonds[\"x\"] * diamonds[\"y\"]\n",
    "diamonds[\"volume\"] = diamonds[\"x\"] * diamonds[\"y\"] * diamonds[\"z\"]"
   ]
  },
  {
   "cell_type": "code",
   "execution_count": null,
   "id": "39f5653d",
   "metadata": {},
   "outputs": [],
   "source": [
    "corr_matrix = diamonds.corr(numeric_only=\"True\")"
   ]
  },
  {
   "cell_type": "code",
   "execution_count": null,
   "id": "2311989c",
   "metadata": {},
   "outputs": [],
   "source": [
    "corr_matrix[\"price\"].sort_values(ascending=False)"
   ]
  },
  {
   "cell_type": "code",
   "execution_count": null,
   "id": "c771f101",
   "metadata": {},
   "outputs": [],
   "source": [
    "diamonds = strat_train_set.drop(\"price\", axis=1)\n",
    "diamonds_labels = strat_train_set[\"price\"].copy()"
   ]
  },
  {
   "cell_type": "code",
   "execution_count": null,
   "id": "d1d6aa61",
   "metadata": {},
   "outputs": [],
   "source": [
    "sample_incomplete_rows = diamonds[diamonds.isnull().any(axis=1)].head()\n",
    "sample_incomplete_rows"
   ]
  },
  {
   "cell_type": "code",
   "execution_count": null,
   "id": "7b242d9a",
   "metadata": {},
   "outputs": [],
   "source": [
    "diamonds_cat = diamonds[[\"cut\"]]\n",
    "diamonds_cat.head(10)"
   ]
  },
  {
   "cell_type": "code",
   "execution_count": null,
   "id": "b44f81f5",
   "metadata": {},
   "outputs": [],
   "source": [
    "from sklearn.preprocessing import OrdinalEncoder\n",
    "\n",
    "ordinal_encoder = OrdinalEncoder()\n",
    "diamonds_cat_encoded = ordinal_encoder.fit_transform(diamonds_cat)\n",
    "diamonds_cat_encoded[:10]"
   ]
  },
  {
   "cell_type": "code",
   "execution_count": null,
   "id": "08c8b03c",
   "metadata": {},
   "outputs": [],
   "source": [
    "ordinal_encoder.categories_"
   ]
  },
  {
   "cell_type": "code",
   "execution_count": null,
   "id": "d777d815",
   "metadata": {},
   "outputs": [],
   "source": [
    "from sklearn.preprocessing import OneHotEncoder\n",
    "\n",
    "cat_encoder = OneHotEncoder()\n",
    "diamonds_cat_1hot = cat_encoder.fit_transform(diamonds_cat)\n",
    "diamonds_cat_1hot"
   ]
  },
  {
   "cell_type": "code",
   "execution_count": null,
   "id": "ffe37833",
   "metadata": {},
   "outputs": [],
   "source": [
    "diamonds_cat_1hot.toarray()"
   ]
  },
  {
   "cell_type": "code",
   "execution_count": null,
   "id": "c3ddf0ac",
   "metadata": {},
   "outputs": [],
   "source": [
    "diamonds"
   ]
  },
  {
   "cell_type": "code",
   "execution_count": null,
   "id": "cec617f3",
   "metadata": {},
   "outputs": [],
   "source": [
    "from sklearn.base import BaseEstimator, TransformerMixin\n",
    "\n",
    "col_names = \"x\", \"y\", \"z\"\n",
    "x_ix, y_ix, z_ix = [diamonds.columns.get_loc(c) for c in col_names]\n",
    "\n",
    "class CombinedAttributesAdder(BaseEstimator, TransformerMixin):\n",
    "    def __init__(self):\n",
    "        self\n",
    "        \n",
    "    def fit(self, X, y=None):\n",
    "        return self\n",
    "    \n",
    "    def transform(self, X):\n",
    "        area = X[:, x_ix] * X[:, y_ix]\n",
    "        volume = X[:, x_ix] * X[:, y_ix] * X[:, z_ix]\n",
    "        \n",
    "        return np.c_[X, area, volume]\n",
    "    \n",
    "attr_adder = CombinedAttributesAdder()\n",
    "diamonds_extra_attribs = attr_adder.transform(diamonds.values)"
   ]
  },
  {
   "cell_type": "code",
   "execution_count": null,
   "id": "4af92ccb",
   "metadata": {},
   "outputs": [],
   "source": [
    "diamonds_extra_attribs = pd.DataFrame(\n",
    "    diamonds_extra_attribs,\n",
    "    columns=list(diamonds.columns) + [\"area\", \"volume\"],\n",
    "    index=diamonds.index\n",
    ")\n",
    "\n",
    "diamonds_extra_attribs.head()"
   ]
  },
  {
   "cell_type": "code",
   "execution_count": null,
   "id": "49ddb407",
   "metadata": {},
   "outputs": [],
   "source": [
    "diamonds_num = diamonds.drop([\"cut\", \"color\", \"clarity\"], axis=1)"
   ]
  },
  {
   "cell_type": "code",
   "execution_count": null,
   "id": "6ca645b7",
   "metadata": {},
   "outputs": [],
   "source": [
    "diamonds_num"
   ]
  },
  {
   "cell_type": "code",
   "execution_count": null,
   "id": "65d5bf72",
   "metadata": {},
   "outputs": [],
   "source": [
    "from sklearn.pipeline import Pipeline\n",
    "from sklearn.impute import SimpleImputer\n",
    "from sklearn.preprocessing import StandardScaler\n",
    "\n",
    "col_names = \"x\", \"y\", \"z\"\n",
    "x_ix, y_ix, z_ix = [diamonds_num.columns.get_loc(c) for c in col_names]\n",
    "\n",
    "num_pipeline = Pipeline([\n",
    "    ('imputer', SimpleImputer(strategy=\"median\")),\n",
    "    ('attribs_adder', CombinedAttributesAdder()),\n",
    "    ('std_scaler', StandardScaler()),\n",
    "])\n",
    "\n",
    "diamonds_num_tr = num_pipeline.fit_transform(diamonds_num)"
   ]
  },
  {
   "cell_type": "code",
   "execution_count": null,
   "id": "4baf4bbb",
   "metadata": {},
   "outputs": [],
   "source": [
    "diamonds_num_tr"
   ]
  },
  {
   "cell_type": "code",
   "execution_count": null,
   "id": "8c9d0e18",
   "metadata": {},
   "outputs": [],
   "source": [
    "diamonds"
   ]
  },
  {
   "cell_type": "code",
   "execution_count": null,
   "id": "f49a8be8",
   "metadata": {},
   "outputs": [],
   "source": [
    "from sklearn.compose import ColumnTransformer\n",
    "\n",
    "num_attribs = [\"carat\", \"depth\", \"table\", \"x\", \"y\", \"z\"]\n",
    "cat_attribs = [\"cut\", \"color\", \"clarity\"]\n",
    "\n",
    "col_names = \"x\", \"y\", \"z\"\n",
    "x_ix, y_ix, z_ix = [diamonds_num.columns.get_loc(c) for c in col_names]\n",
    "\n",
    "full_pipeline = ColumnTransformer([\n",
    "    (\"num\", num_pipeline, num_attribs),\n",
    "    (\"cat\", OneHotEncoder(), cat_attribs),\n",
    "])\n",
    "\n",
    "diamonds_prepared = full_pipeline.fit_transform(diamonds)"
   ]
  },
  {
   "cell_type": "code",
   "execution_count": null,
   "id": "dab77ce7",
   "metadata": {},
   "outputs": [],
   "source": [
    "diamonds_prepared"
   ]
  },
  {
   "cell_type": "code",
   "execution_count": null,
   "id": "18480ec1",
   "metadata": {},
   "outputs": [],
   "source": [
    "diamonds_prepared.shape"
   ]
  },
  {
   "cell_type": "code",
   "execution_count": null,
   "id": "3b7916de",
   "metadata": {},
   "outputs": [],
   "source": [
    "diamonds_prepared"
   ]
  },
  {
   "cell_type": "code",
   "execution_count": null,
   "id": "3518d023",
   "metadata": {},
   "outputs": [],
   "source": [
    "from sklearn.linear_model import LinearRegression\n",
    "\n",
    "lin_reg = LinearRegression()\n",
    "lin_reg.fit(diamonds_prepared, diamonds_labels)"
   ]
  },
  {
   "cell_type": "code",
   "execution_count": null,
   "id": "79f79b90",
   "metadata": {},
   "outputs": [],
   "source": [
    "some_data = diamonds.iloc[:5]\n",
    "some_labels = diamonds_labels.iloc[:5]\n",
    "some_data_prepared = full_pipeline.transform(some_data)\n",
    "\n",
    "print(\"Predictions:\", lin_reg.predict(some_data_prepared))"
   ]
  },
  {
   "cell_type": "code",
   "execution_count": null,
   "id": "e23b004f",
   "metadata": {},
   "outputs": [],
   "source": [
    "print(\"Labels:\", list(some_labels))"
   ]
  },
  {
   "cell_type": "code",
   "execution_count": null,
   "id": "a6663a2b",
   "metadata": {},
   "outputs": [],
   "source": [
    "some_data_prepared"
   ]
  },
  {
   "cell_type": "code",
   "execution_count": null,
   "id": "d8fb7c20",
   "metadata": {},
   "outputs": [],
   "source": [
    "from sklearn.metrics import mean_squared_error\n",
    "\n",
    "diamonds_predictions = lin_reg.predict(diamonds_prepared)\n",
    "lin_mse = mean_squared_error(diamonds_labels, diamonds_predictions)\n",
    "lin_rmse = np.sqrt(lin_mse)\n",
    "lin_rmse"
   ]
  },
  {
   "cell_type": "code",
   "execution_count": null,
   "id": "2260cba5",
   "metadata": {},
   "outputs": [],
   "source": [
    "from sklearn.tree import DecisionTreeRegressor\n",
    "\n",
    "tree_reg = DecisionTreeRegressor(random_state=42)\n",
    "tree_reg.fit(diamonds_prepared, diamonds_labels)"
   ]
  },
  {
   "cell_type": "code",
   "execution_count": null,
   "id": "f43b3356",
   "metadata": {},
   "outputs": [],
   "source": [
    "diamonds_predictions = tree_reg.predict(diamonds_prepared)\n",
    "tree_mse = mean_squared_error(diamonds_labels, diamonds_predictions)\n",
    "tree_rmse = np.sqrt(tree_mse)\n",
    "tree_rmse"
   ]
  },
  {
   "cell_type": "code",
   "execution_count": null,
   "id": "a4c91c67",
   "metadata": {},
   "outputs": [],
   "source": [
    "from sklearn.model_selection import cross_val_score\n",
    "\n",
    "scores = cross_val_score(tree_reg, diamonds_prepared, diamonds_labels, scoring=\"neg_mean_squared_error\", cv=10)\n",
    "\n",
    "tree_rmse_scores = np.sqrt(-scores)"
   ]
  },
  {
   "cell_type": "code",
   "execution_count": null,
   "id": "96ad04d9",
   "metadata": {},
   "outputs": [],
   "source": [
    "def display_scores(scores):\n",
    "    print(\"Scores:\", scores)\n",
    "    print(\"Mean:\", scores.mean())\n",
    "    print(\"Standard deviation:\", scores.std())\n",
    "    \n",
    "display_scores(tree_rmse_scores)"
   ]
  },
  {
   "cell_type": "code",
   "execution_count": null,
   "id": "40ac0c64",
   "metadata": {},
   "outputs": [],
   "source": [
    "lin_scores = cross_val_score(lin_reg, diamonds_prepared, diamonds_labels, scoring=\"neg_mean_squared_error\", cv=10)\n",
    "\n",
    "lin_rmse_scores = np.sqrt(-lin_scores)\n",
    "\n",
    "display_scores(lin_rmse_scores)"
   ]
  },
  {
   "cell_type": "code",
   "execution_count": null,
   "id": "2fc426d3",
   "metadata": {},
   "outputs": [],
   "source": [
    "from sklearn.ensemble import RandomForestRegressor\n",
    "\n",
    "forest_reg = RandomForestRegressor(n_estimators=100, random_state=42)\n",
    "forest_reg.fit(diamonds_prepared, diamonds_labels)"
   ]
  },
  {
   "cell_type": "code",
   "execution_count": null,
   "id": "e11e14ae",
   "metadata": {},
   "outputs": [],
   "source": [
    "diamonds_predictions = forest_reg.predict(diamonds_prepared)\n",
    "forest_mse = mean_squared_error(diamonds_labels, diamonds_predictions)\n",
    "forest_rmse = np.sqrt(forest_mse)\n",
    "forest_rmse"
   ]
  },
  {
   "cell_type": "code",
   "execution_count": null,
   "id": "cec92402",
   "metadata": {},
   "outputs": [],
   "source": [
    "forest_scores = cross_val_score(forest_reg, diamonds_prepared, diamonds_labels, scoring=\"neg_mean_squared_error\", cv=10)\n",
    "forest_rmse_scores = np.sqrt(-forest_scores)\n",
    "display_scores(forest_rmse_scores)"
   ]
  },
  {
   "cell_type": "code",
   "execution_count": null,
   "id": "c62774a9",
   "metadata": {},
   "outputs": [],
   "source": [
    "from sklearn.model_selection import GridSearchCV\n",
    "\n",
    "param_grid = [\n",
    "    {'n_estimators': [125, 150, 175, 200], 'max_features': [15, 20, 25, 30]},\n",
    "    {'bootstrap': [False], 'n_estimators': [30, 128], 'max_features': [8, 14]}\n",
    "]\n",
    "\n",
    "forest_reg = RandomForestRegressor(random_state=42)\n",
    "\n",
    "grid_search = GridSearchCV(forest_reg, param_grid, cv=5, scoring='neg_mean_squared_error', return_train_score=True)\n",
    "\n",
    "grid_search.fit(diamonds_prepared, diamonds_labels)"
   ]
  },
  {
   "cell_type": "code",
   "execution_count": null,
   "id": "9fe5853f",
   "metadata": {},
   "outputs": [],
   "source": [
    "grid_search.best_params_"
   ]
  },
  {
   "cell_type": "code",
   "execution_count": null,
   "id": "a1256b93",
   "metadata": {},
   "outputs": [],
   "source": [
    "grid_search.best_estimator_"
   ]
  },
  {
   "cell_type": "code",
   "execution_count": null,
   "id": "707b0769",
   "metadata": {},
   "outputs": [],
   "source": [
    "cvres = grid_search.cv_results_\n",
    "for mean_score, params in zip(cvres[\"mean_test_score\"], cvres[\"params\"]):\n",
    "    print(np.sqrt(-mean_score), params)"
   ]
  },
  {
   "cell_type": "code",
   "execution_count": null,
   "id": "267e9749",
   "metadata": {},
   "outputs": [],
   "source": [
    "from sklearn.model_selection import RandomizedSearchCV\n",
    "from scipy.stats import randint\n",
    "\n",
    "param_distribs = {\n",
    "    'n_estimators': randint(low=1, high=200),\n",
    "    'max_features': randint(low=1, high=8),\n",
    "}\n",
    "\n",
    "forest_reg = RandomForestRegressor(random_state=42)\n",
    "rnd_search = RandomizedSearchCV(forest_reg, param_distributions=param_distribs,\n",
    "                               n_iter=10, cv=5, scoring=\"neg_mean_squared_error\", random_state=42)\n",
    "\n",
    "rnd_search.fit(diamonds_prepared, diamonds_labels)"
   ]
  },
  {
   "cell_type": "code",
   "execution_count": null,
   "id": "b834db00",
   "metadata": {},
   "outputs": [],
   "source": [
    "cvres = rnd_search.cv_results_\n",
    "\n",
    "for mean_score, params in zip(cvres[\"mean_test_score\"], cvres[\"params\"]):\n",
    "    print(np.sqrt(-mean_score), params)"
   ]
  },
  {
   "cell_type": "code",
   "execution_count": null,
   "id": "f9eeb254",
   "metadata": {},
   "outputs": [],
   "source": [
    "feature_importances = grid_search.best_estimator_.feature_importances_\n",
    "feature_importances"
   ]
  },
  {
   "cell_type": "code",
   "execution_count": null,
   "id": "e109bff9",
   "metadata": {},
   "outputs": [],
   "source": [
    "extra_attribs = [\"area\", \"volume\"]\n",
    "cat_encoder = full_pipeline.named_transformers_[\"cat\"]\n",
    "cat_one_hot_attribs = list(cat_encoder.categories_[0])\n",
    "attributes = num_attribs + extra_attribs + cat_one_hot_attribs\n",
    "sorted(zip(feature_importances, attributes), reverse=True)"
   ]
  },
  {
   "cell_type": "code",
   "execution_count": null,
   "id": "033542fc",
   "metadata": {},
   "outputs": [],
   "source": [
    "final_model = grid_search.best_estimator_\n",
    "\n",
    "X_test = strat_test_set.drop(\"price\", axis=1)\n",
    "y_test = strat_test_set[\"price\"].copy()\n",
    "\n",
    "X_test_prepared = full_pipeline.transform(X_test)\n",
    "final_predictions = final_model.predict(X_test_prepared)\n",
    "\n",
    "final_mse = mean_squared_error(y_test, final_predictions)\n",
    "final_rmse = np.sqrt(final_mse)"
   ]
  },
  {
   "cell_type": "code",
   "execution_count": null,
   "id": "e10103dc",
   "metadata": {},
   "outputs": [],
   "source": [
    "final_rmse"
   ]
  },
  {
   "cell_type": "code",
   "execution_count": null,
   "id": "e2967c67",
   "metadata": {},
   "outputs": [],
   "source": [
    "from scipy import stats\n",
    "\n",
    "confidence = 0.95\n",
    "squared_errors = (final_predictions - y_test) ** 2\n",
    "np.sqrt(stats.t.interval(confidence, len(squared_errors) - 1,\n",
    "                        loc=squared_errors.mean(),\n",
    "                        scale=stats.sem(squared_errors)\n",
    "                        )\n",
    "       )"
   ]
  },
  {
   "cell_type": "markdown",
   "id": "ef052af7",
   "metadata": {},
   "source": [
    "# Exercises"
   ]
  },
  {
   "cell_type": "markdown",
   "id": "ac8d16bb",
   "metadata": {},
   "source": [
    "### 1. Try a Support Vector Machine regressor (`sklearn.svm.SVR`) with various hyperparameters, such as `kernel=\"linear\"` (with various values for the `C` hyperparameter) or `kernel=\"rbf\"` (with various values for `C` and `gamma` hyperparameters). Donʼt worry about what these hyperparameters mean for now. How does the best SVR predictor perform?"
   ]
  },
  {
   "cell_type": "code",
   "execution_count": null,
   "id": "564187dd",
   "metadata": {},
   "outputs": [],
   "source": [
    "from sklearn.svm import SVR\n",
    "\n",
    "param_grid = [\n",
    "    {'kernel': ['linear'], 'C': [10., 30., 100., 300., 1000., 3000., 10000., 30000.]},\n",
    "    {'kernel': ['rbf'], 'C': [1., 3., 10., 30., 100., 300., 1000.], 'gamma': [0.01, 0.03, 0.1, 0.3, 1.0, 3.0]}\n",
    "]\n",
    "\n",
    "svm_reg = SVR()\n",
    "grid_search = GridSearchCV(svm_reg, param_grid, cv=5, scoring='neg_mean_squared_error', verbose=2)\n",
    "grid_search.fit(diamonds_prepared, diamonds_labels)"
   ]
  },
  {
   "cell_type": "code",
   "execution_count": null,
   "id": "20f6b285",
   "metadata": {},
   "outputs": [],
   "source": [
    "negative_mse = grid_search.best_score_\n",
    "rmse = np.sqrt(-negative_mse)\n",
    "rmse"
   ]
  },
  {
   "cell_type": "code",
   "execution_count": null,
   "id": "b6873754",
   "metadata": {},
   "outputs": [],
   "source": [
    "grid_search.best_params_"
   ]
  },
  {
   "cell_type": "markdown",
   "id": "a8539542",
   "metadata": {},
   "source": [
    "### 2. Try replacing `GridSearchCV` with `RandomizedSearchCV`. "
   ]
  },
  {
   "cell_type": "code",
   "execution_count": null,
   "id": "e895efda",
   "metadata": {},
   "outputs": [],
   "source": [
    "print(\"test\")"
   ]
  },
  {
   "cell_type": "code",
   "execution_count": null,
   "id": "8a2abd74",
   "metadata": {},
   "outputs": [],
   "source": [
    "from sklearn.model_selection import RandomizedSearchCV\n",
    "from scipy.stats import expon, reciprocal\n",
    "\n",
    "param_distribs = {\n",
    "    'kernel': ['linear', 'rbf'],\n",
    "    'C': reciprocal(20, 1000),\n",
    "    'gamma': expon(scale=1.0),\n",
    "}\n",
    "\n",
    "svm_reg = SVR()\n",
    "rnd_search = RandomizedSearchCV(svm_reg, param_distributions=param_distribs, n_iter=50, cv=5, \n",
    "                                scoring='neg_mean_squared_error', verbose=2, random_state=42)\n",
    "\n",
    "rnd_search.fit(diamonds_prepared, diamonds_labels)"
   ]
  },
  {
   "cell_type": "code",
   "execution_count": null,
   "id": "5bd436da",
   "metadata": {},
   "outputs": [],
   "source": [
    "negative_mse = rnd_search.best_score_\n",
    "rmse = np.sqrt(-negative_mse)\n",
    "rmse"
   ]
  },
  {
   "cell_type": "code",
   "execution_count": null,
   "id": "f256d624",
   "metadata": {},
   "outputs": [],
   "source": [
    "rnd_search.best_params_"
   ]
  },
  {
   "cell_type": "markdown",
   "id": "18f697c0",
   "metadata": {},
   "source": [
    "### 3. Try adding a transformer in the preparation pipeline to select only the most important attributes."
   ]
  },
  {
   "cell_type": "code",
   "execution_count": null,
   "id": "32d12fe7",
   "metadata": {},
   "outputs": [],
   "source": [
    "def indices_of_top_k(arr, k):\n",
    "    return np.sort(np.argpartition(np.array(arr), -k)[-k:])\n",
    "\n",
    "class TopFeatureSelector(BaseEstimator, TransformerMixin):\n",
    "    def __init__(self, feature_importances, k):\n",
    "        self.feature_importances = feature_importances\n",
    "        self.k = k\n",
    "        \n",
    "    def fit(self, X, y=None):\n",
    "        self.feature_indices_ = indices_of_top_k(self.feature_importances, self.k)\n",
    "        return self\n",
    "    \n",
    "    def transform(self, X):\n",
    "        return X[:, self.feature_indices_]"
   ]
  },
  {
   "cell_type": "code",
   "execution_count": null,
   "id": "671dc73b",
   "metadata": {},
   "outputs": [],
   "source": [
    "k = 5"
   ]
  },
  {
   "cell_type": "code",
   "execution_count": null,
   "id": "5ed6c8f2",
   "metadata": {},
   "outputs": [],
   "source": [
    "top_k_feature_indices = indices_of_top_k(feature_importances, k)\n",
    "top_k_feature_indices"
   ]
  },
  {
   "cell_type": "code",
   "execution_count": null,
   "id": "ea676838",
   "metadata": {},
   "outputs": [],
   "source": [
    "np.array(attributes)[top_k_feature_indices]"
   ]
  },
  {
   "cell_type": "code",
   "execution_count": null,
   "id": "0e0a9493",
   "metadata": {},
   "outputs": [],
   "source": [
    "sorted(zip(feature_importances, attributes), reverse=True)[:k]"
   ]
  },
  {
   "cell_type": "code",
   "execution_count": null,
   "id": "2fc9dbb6",
   "metadata": {},
   "outputs": [],
   "source": [
    "preparation_and_feature_selection_pipeline = Pipeline([\n",
    "    ('preparation', full_pipeline),\n",
    "    ('feature_selection', TopFeatureSelector(feature_importances, k))\n",
    "])"
   ]
  },
  {
   "cell_type": "code",
   "execution_count": null,
   "id": "50e4eb77",
   "metadata": {},
   "outputs": [],
   "source": [
    "diamonds_prepared_top_k_features = preparation_and_feature_selection_pipeline.fit_transform(diamonds)"
   ]
  },
  {
   "cell_type": "code",
   "execution_count": null,
   "id": "9156d47d",
   "metadata": {},
   "outputs": [],
   "source": [
    "diamonds_prepared_top_k_features[0:3]"
   ]
  },
  {
   "cell_type": "code",
   "execution_count": null,
   "id": "0dbf36f0",
   "metadata": {},
   "outputs": [],
   "source": [
    "diamonds_prepared[0:3, top_k_feature_indices]"
   ]
  },
  {
   "cell_type": "markdown",
   "id": "fcfb727c",
   "metadata": {},
   "source": [
    "### 4. Try creating a single pipeline that does the full data preparation plus the final prediction"
   ]
  },
  {
   "cell_type": "code",
   "execution_count": null,
   "id": "f1e74474",
   "metadata": {},
   "outputs": [],
   "source": [
    "prepare_select_and_predict_pipeline = Pipeline([\n",
    "    ('preparation', full_pipeline),\n",
    "    ('feature_selection', TopFeatureSelector(feature_importances, k)),\n",
    "    ('svm_reg', SVR(**rnd_search.best_params_))\n",
    "])"
   ]
  },
  {
   "cell_type": "code",
   "execution_count": null,
   "id": "ef238db7",
   "metadata": {},
   "outputs": [],
   "source": [
    "prepare_select_and_predict_pipeline.fit(diamonds, diamonds_labels)"
   ]
  },
  {
   "cell_type": "code",
   "execution_count": null,
   "id": "610bc310",
   "metadata": {},
   "outputs": [],
   "source": [
    "some_data = diamonds.iloc[:4]\n",
    "some_labels = diamonds_labels.iloc[:4]\n",
    "\n",
    "print(\"Predictions:\\t\", prepare_select_and_predict_pipeline.predict(some_data))\n",
    "print(\"Labels:\\t\\t\", list(some_labels))"
   ]
  },
  {
   "cell_type": "markdown",
   "id": "81b75067",
   "metadata": {},
   "source": [
    "### 5. Automatically explore some preparations options using `GridSearchCV`."
   ]
  },
  {
   "cell_type": "code",
   "execution_count": null,
   "id": "8473bb8a",
   "metadata": {},
   "outputs": [],
   "source": [
    "full_pipeline = ColumnTransformer([\n",
    "    (\"num\", num_pipeline, num_attribs),\n",
    "    (\"cat\", OneHotEncoder(handle_unknown='ignore'), cat_attribs)\n",
    "])\n",
    "\n",
    "prepare_select_and_predict_pipeline = Pipeline([\n",
    "    ('preparation', full_pipeline),\n",
    "    ('feature_selection', TopFeatureSelector(feature_importances, k)),\n",
    "    ('svm_reg', SVR(**rnd_search.best_params_))\n",
    "])\n",
    "\n",
    "param_grid = [{\n",
    "    'preparation__num__imputer__strategy': ['mean', 'median', 'most_frequent'],\n",
    "    'feature_selection__k': list(range(1, len(feature_importances) + 1))\n",
    "}]\n",
    "\n",
    "grid_search_prep = GridSearchCV(prepare_select_and_predict_pipeline, param_grid, cv=5, \n",
    "                                scoring='neg_mean_squared_error', verbose=2)\n",
    "grid_search_prep.fit(diamonds, diamonds_labels)"
   ]
  },
  {
   "cell_type": "code",
   "execution_count": null,
   "id": "0921bdb2",
   "metadata": {},
   "outputs": [],
   "source": [
    "grid_search_prep.best_params_"
   ]
  },
  {
   "cell_type": "code",
   "execution_count": null,
   "id": "78ed8724",
   "metadata": {},
   "outputs": [],
   "source": []
  }
 ],
 "metadata": {
  "kernelspec": {
   "display_name": "Python 3 (ipykernel)",
   "language": "python",
   "name": "python3"
  },
  "language_info": {
   "codemirror_mode": {
    "name": "ipython",
    "version": 3
   },
   "file_extension": ".py",
   "mimetype": "text/x-python",
   "name": "python",
   "nbconvert_exporter": "python",
   "pygments_lexer": "ipython3",
   "version": "3.11.5"
  }
 },
 "nbformat": 4,
 "nbformat_minor": 5
}
